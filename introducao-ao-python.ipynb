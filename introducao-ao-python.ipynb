{
 "cells": [
  {
   "attachments": {
    "udacity.jpg": {
     "image/jpeg": "[encoded data removed]"
    }
   },
   "cell_type": "markdown",
   "metadata": {},
   "source": [
    "![udacity.jpg](attachment:udacity.jpg)"
   ]
  },
  {
   "cell_type": "markdown",
   "metadata": {},
   "source": [
    "# Fundamentos de AI & Machine Learning\n",
    "## Introdução ao Python\n",
    "\n",
    "1. <a href='#tipos_dados_operadores'>Tipos de Dados e Operadores</a>  \n",
    "    1.1 <a href='#operadores_aritmeticos'>Operadores Aritméticos</a>;  \n",
    "    1.2 <a href='#variaveis_operadores_atribuicao'>Variáveis e operadores de atribuição</a>;  \n",
    "    1.3 <a href='#booleanos'> Booleanos, operadores de comparação e op. lógicos</a>;  \n",
    "    1.4 <a href='#strings'>Strings</a>;  \n",
    "    1.5 <a href='#tipo_conversao'>Tipo e conversão de tipo</a>;  \n",
    "    1.6 <a href='#listas'>Listas</a>;  \n",
    "    1.7 <a href='#tuplas'>Tuplas</a>;  \n",
    "    1.8 <a href='#set'>Set</a>;  \n",
    "    1.9 <a href='#dicionario'>Dicionário</a>;  \n",
    "    1.10 <a href='#estruturas_dados_compostas'>Estruturas de dados compostas</a>;  \n",
    "    1.11 <a href='#exercicios_pratica'>Exercícios Práticos</a>;    \n",
    "2. <a href='#controle_fluxo'>Controle de Fluxo</a>      \n",
    "    2.1 <a href='#declaracao_condicional'>Declarações condicionais</a>;  \n",
    "    2.2 <a href='#exp_booleana'>Expressões booleanas para condições</a>;  \n",
    "    2.3 <a href='#exp_booleana'>Expressões booleanas para condições</a>;  \n",
    "    2.4 <a href='#for'>Loops For</a>;  \n",
    "    2.5 <a href='#while'>Loops While</a>;  \n",
    "    2.6 <a href='#enumeration'>Zip e enumeração</a>;  \n",
    "    2.7 <a href='#compreensao_lista'>Compreensão de listas</a>;  \n",
    "3. <a href='#funcoes'>Funções</a>  \n",
    "    3.1 <a href='#definindo_funcoes'>Definindo Funções</a>;  \n",
    "    3.2 <a href='#exp_lambda'>Expressões lambda</a>;  \n",
    "4. <a href='#scripting'>Scripting</a>  \n",
    "    4.1 <a href='#erros'> Lidando com erros</a>;  \n",
    "5. <a href='#projeto_chicago'>Projeto: Explore os dados de bicicletas compartilhadas de Chicago</a> "
   ]
  },
  {
   "cell_type": "markdown",
   "metadata": {},
   "source": [
    "<a id='tipos_dados_operadores'></a>\n",
    "## Tipos de Dados e Operadores"
   ]
  },
  {
   "cell_type": "markdown",
   "metadata": {},
   "source": [
    "<a id='operadores_aritmeticos'></a>\n",
    "### Quiz: Operadores Aritméticos\n",
    "\n",
    "*Minhas contas de energia elétrica nos últimos três meses foram de 23, 32 e 64. Qual é a média da fatura de energia elétrica durante o período de três meses? Escreva uma expressão aritmética para calcular a média destas quantidades e use o comando print() para ver o resultado.*"
   ]
  },
  {
   "cell_type": "code",
   "execution_count": 110,
   "metadata": {},
   "outputs": [
    {
     "name": "stdout",
     "output_type": "stream",
     "text": [
      "39.666666666666664\n"
     ]
    }
   ],
   "source": [
    "# Escreva uma expressao que calcule a media de 23, 32 e 64, ou seja, some os tres numeros e divida por 3.0. \n",
    "\n",
    "print((23 + 32 + 64) / 3.0)"
   ]
  },
  {
   "cell_type": "markdown",
   "metadata": {},
   "source": [
    "*Você vai fazer alguns cálculos para um ladrilhador. Duas partes de um piso precisam de azulejos. Uma parte tem 9 azulejos de largura por 7 azulejos de comprimento, a outra tem 5 azulejos de largura por 7 azulejos de comprimento. Os azulejos vêm em pacotes de 6.*\n",
    "\n",
    "1. *Quantos azulejos são necessários?*\n",
    "2. *Você compra 17 pacotes, contendo 6 azulejos em cada. Quantos azulejos vão sobrar?*"
   ]
  },
  {
   "cell_type": "code",
   "execution_count": 111,
   "metadata": {},
   "outputs": [
    {
     "name": "stdout",
     "output_type": "stream",
     "text": [
      "98\n",
      "4\n"
     ]
    }
   ],
   "source": [
    "# Preencha aqui com uma expressao que calcule quantos azulejos sao necessarios\n",
    "print(9*7 + 5*7)\n",
    "\n",
    "# Preencha aqui com uma expressao que calcule quantos azulejos sobrarao\n",
    "print((17*6)-(9*7 + 5*7))"
   ]
  },
  {
   "cell_type": "markdown",
   "metadata": {},
   "source": [
    "<a id='variaveis_operadores_atribuicao'></a>\n",
    "### Quiz: Variáveis e operadores de atribuição\n",
    "\n",
    "*Os comentários neste quiz (as linhas que começam com #) têm instruções para criar e modificar variáveis. Depois de cada comentário, escreva uma linha de código que implemente a instrução.*\n",
    "\n",
    "*Observe que esse código usa notação científica para definir um número grande. 4.445 e 8 é igual a 4.445 * 10 ** 8 que é igual a 444500000.0.*"
   ]
  },
  {
   "cell_type": "code",
   "execution_count": 112,
   "metadata": {},
   "outputs": [
    {
     "name": "stdout",
     "output_type": "stream",
     "text": [
      "447627500.0\n"
     ]
    }
   ],
   "source": [
    "# Volume atual de um reservatório de água (em metros cúbicos)\n",
    "reservoir_volume = 4.445e8\n",
    "# Total de água da chuva de uma tempestade(em metros cúbicos)\n",
    "rainfall = 5e6\n",
    "\n",
    "# Reduza a variável de água da chuva(rainfall) em 10% para considerar perdas\n",
    "rainfall *= 0.9\n",
    "\n",
    "# Adicione a variável rainfall à variaável de vol. atual do reservatório(reservoir_volume)\n",
    "reservoir_volume += rainfall\n",
    "\n",
    "# Aumente o volume do reservatório (reservoir_volume) em 5% para considerar águas tempestuosas\n",
    "# que chegam no reservatório dias apoós a tempestade\n",
    "reservoir_volume *= 1.05\n",
    "\n",
    "# Reduza o volume do reservatório (reservoir_volume) em 5% para considerar evaporaçaão \n",
    "reservoir_volume *= 0.95\n",
    "\n",
    "# Subtraia 2.5e5 metros cúbicos de reservoir_volume para considerar água\n",
    "# que é direcionada para regiões áridas.\n",
    "reservoir_volume -= 2.5e5\n",
    "\n",
    "# Execute um print do novo valor de reservoir_volume\n",
    "print(reservoir_volume)"
   ]
  },
  {
   "cell_type": "markdown",
   "metadata": {},
   "source": [
    "*Como uma alteração de um valor em uma variável afeta outra variável que foi definida em termos dela?*"
   ]
  },
  {
   "cell_type": "code",
   "execution_count": 113,
   "metadata": {},
   "outputs": [
    {
     "name": "stdout",
     "output_type": "stream",
     "text": [
      "rabbits 8\n",
      "crs_per_rab 0.5\n",
      "crs_per_rab após alteração de rabbits 0.5\n"
     ]
    }
   ],
   "source": [
    "rabbits = 8\n",
    "carrots = 4\n",
    "crs_per_rab = carrots/rabbits\n",
    "\n",
    "print(\"rabbits\", rabbits)\n",
    "print(\"crs_per_rab\", crs_per_rab)\n",
    "\n",
    "rabbits = 12\n",
    "print(\"crs_per_rab após alteração de rabbits\", crs_per_rab)"
   ]
  },
  {
   "cell_type": "markdown",
   "metadata": {},
   "source": [
    "<a id='booleanos'></a>\n",
    "### Quiz: Booleanos, operadores de comparação e op. lógicos\n",
    "\n",
    "*Esse código calcula a densidade populacional do Rio de Janeiro e de São Francisco. Escreva o código para comparar essas densidades. São Francisco é mais densa do que o Rio de Janeiro? Seu código deve exibir(print) True se for e False caso não seja. Dica: precisamos de apenas uma comparação.*"
   ]
  },
  {
   "cell_type": "code",
   "execution_count": 114,
   "metadata": {},
   "outputs": [
    {
     "name": "stdout",
     "output_type": "stream",
     "text": [
      "False\n"
     ]
    }
   ],
   "source": [
    "sf_population, sf_area = 864816, 231.89\n",
    "rio_population, rio_area = 6453682, 486.5\n",
    "\n",
    "san_francisco_pop_density = sf_population/sf_area\n",
    "rio_de_janeiro_pop_density = rio_population/rio_area\n",
    "\n",
    "# Escreva um código que imprima na tela (print) True se \n",
    "#  San Francisco for mais densa que Rio e False caso contrário\n",
    "print(san_francisco_pop_density > rio_de_janeiro_pop_density)"
   ]
  },
  {
   "cell_type": "markdown",
   "metadata": {},
   "source": [
    "<a id='strings'></a>\n",
    "### Quiz: Strings\n",
    "    \n",
    "*A linha de código no quiz a seguir causará um SyntaxError, graças à utilização indevida de aspas. \n",
    "Primeiro, faça uma execução de teste para ver a mensagem de erro. \n",
    "Em seguida, resolva o problema para que a citação (de Henry Ford) seja corretamente atribuída à variável ford_quote.*"
   ]
  },
  {
   "cell_type": "code",
   "execution_count": 115,
   "metadata": {},
   "outputs": [],
   "source": [
    "# TODO: Arrume essa String!\n",
    "#ford_quote = 'Whether you think you can, or you think you can't--you're right.'"
   ]
  },
  {
   "cell_type": "code",
   "execution_count": 116,
   "metadata": {},
   "outputs": [],
   "source": [
    "ford_quote = 'Whether you think you can, or you think you can\\'t--you\\'re right.'"
   ]
  },
  {
   "cell_type": "markdown",
   "metadata": {},
   "source": [
    "*Qual será a saída deste código?*"
   ]
  },
  {
   "cell_type": "code",
   "execution_count": 117,
   "metadata": {},
   "outputs": [
    {
     "name": "stdout",
     "output_type": "stream",
     "text": [
      "3415\n"
     ]
    }
   ],
   "source": [
    "coconut_count = \"34\"\n",
    "mango_count = \"15\"\n",
    "\n",
    "tropical_fruit_count = coconut_count + mango_count\n",
    "print(tropical_fruit_count)"
   ]
  },
  {
   "cell_type": "markdown",
   "metadata": {},
   "source": [
    "*Escreva uma mensagem de log no servidor. Forneceremos exemplos de dados de um usuário, com o tempo de sua visita e \n",
    "o site acessado. Você deve usar as variáveis fornecidas e as técnicas que aprendeu para imprimir uma mensagem de log \n",
    "como esta (com o nome de usuário, URL e marcação de tempo substituídos pelos valores das variáveis apropriadas):*\n",
    "\n",
    "*Yogesh accessed the site http://petshop.com/pets/reptiles/pythons at 16:20.*\n",
    "\n",
    "*Use o botão de execução de teste para ver os resultados enquanto você trabalha no código pedaço por pedaço.*"
   ]
  },
  {
   "cell_type": "code",
   "execution_count": 118,
   "metadata": {},
   "outputs": [
    {
     "name": "stdout",
     "output_type": "stream",
     "text": [
      "Kinari accessed the site http://petshop.com/pets/mammals/cats at 04:50.\n"
     ]
    }
   ],
   "source": [
    "username = \"Kinari\"\n",
    "timestamp = \"04:50\"\n",
    "url = \"http://petshop.com/pets/mammals/cats\"\n",
    "\n",
    "# TODO: imprima(print) uma mensagem de log incorporando as Strings acima.\n",
    "# A mensagem deve seguir o mesmo formato que:\n",
    "# \"Yogesh accessed the site http://petshop.com/pets/reptiles/pythons at 16:20.\"\n",
    "print(username +  \" accessed the site \" + url + \" at \" + timestamp + \".\")"
   ]
  },
  {
   "cell_type": "markdown",
   "metadata": {},
   "source": [
    "*Utilize a concatenação de strings e a função len para encontrar o comprimento do nome completo de uma estrela de cinema real. Armazene esse comprimento na variável name_length. Não se esqueça de que existem espaços entre as diferentes partes de um nome!*"
   ]
  },
  {
   "cell_type": "code",
   "execution_count": 119,
   "metadata": {},
   "outputs": [
    {
     "name": "stdout",
     "output_type": "stream",
     "text": [
      "True\n"
     ]
    }
   ],
   "source": [
    "given_name = \"William\"\n",
    "middle_names = \"Bradley\"\n",
    "family_name = \"Pitt\"\n",
    "\n",
    "complete_name = given_name + \" \" + middle_names + \" \" + family_name\n",
    "\n",
    "name_length = len(given_name + middle_names + family_name) + 2\n",
    "\n",
    "# Confirme se o nome tem o número de caracteres permitido na Carteira de Motorista\n",
    "driving_license_character_limit = 28\n",
    "print(name_length <= driving_license_character_limit)"
   ]
  },
  {
   "cell_type": "markdown",
   "metadata": {},
   "source": [
    "<a id='tipo_conversao'></a>\n",
    "### Quiz: Tipo e conversão de tipo\n",
    "\n",
    "*Calcule e exiba o total de vendas da semana a partir dos dados fornecidos. Exiba uma string da forma \"This week's total sales: xxx\", onde xxx será o total real de todos os números. Você precisará alterar os tipos de dados de entrada a fim de calcular o total.*"
   ]
  },
  {
   "cell_type": "code",
   "execution_count": 120,
   "metadata": {},
   "outputs": [
    {
     "name": "stdout",
     "output_type": "stream",
     "text": [
      "This week's total sales: 529\n"
     ]
    }
   ],
   "source": [
    "mon_sales = \"121\"\n",
    "tues_sales = \"105\"\n",
    "wed_sales = \"110\"\n",
    "thurs_sales = \"98\"\n",
    "fri_sales = \"95\"\n",
    "\n",
    "#TODO: Imprima(Print) uma String no formato: This week's total sales: xxx\n",
    "# É provável que você precise escrever algumas linhas de código antes do print.\n",
    "sales = int(mon_sales) + int(tues_sales) + int(wed_sales) + int(thurs_sales) + int(fri_sales)\n",
    "print(\"This week's total sales:\",sales)"
   ]
  },
  {
   "cell_type": "markdown",
   "metadata": {},
   "source": [
    "<a id='listas'></a>\n",
    "### Quiz: Listas\n",
    "*Use a indexação de lista para determinar quantos dias existem em um mês específico com base na variável month, de tipo inteiro, e armazene esse valor na variável de tipo inteiro num_days. Por exemplo, se month for 8, num_days deve ser definida como 31, já que o oitavo mês, agosto, possui 31 dias. Lembre-se de considerar que a indexação é baseada no zero!*"
   ]
  },
  {
   "cell_type": "code",
   "execution_count": 121,
   "metadata": {},
   "outputs": [
    {
     "name": "stdout",
     "output_type": "stream",
     "text": [
      "31\n"
     ]
    }
   ],
   "source": [
    "month = 8\n",
    "days_in_month = [31,28,31,30,31,30,31,31,30,31,30,31]\n",
    "\n",
    "# Use a indexação de lista para definir a variável num_days com quantos dias existem em um mês específico\n",
    "num_days = days_in_month[7]\n",
    "\n",
    "print(num_days)"
   ]
  },
  {
   "cell_type": "markdown",
   "metadata": {},
   "source": [
    "*Selecione as três datas mais recentes desta lista usando a notação de corte de lista. \n",
    "Dica: índices negativos funcionam para as fatias!*"
   ]
  },
  {
   "cell_type": "code",
   "execution_count": 122,
   "metadata": {},
   "outputs": [
    {
     "name": "stdout",
     "output_type": "stream",
     "text": [
      "['November 13, 2012', 'March 20, 2015', 'March 9, 2016']\n"
     ]
    }
   ],
   "source": [
    "eclipse_dates = ['June 21, 2001', 'December 4, 2002', 'November 23, 2003',\n",
    "                 'March 29, 2006', 'August 1, 2008', 'July 22, 2009',\n",
    "                 'July 11, 2010', 'November 13, 2012', 'March 20, 2015',\n",
    "                 'March 9, 2016']\n",
    "                 \n",
    "                 \n",
    "# TODO: Modifique essa linha para que imprima (print) os últimos 3 elementos da lista\n",
    "\n",
    "print(eclipse_dates[7:])"
   ]
  },
  {
   "cell_type": "markdown",
   "metadata": {},
   "source": [
    "*Qual seria a saída do seguinte código (trate a vírgula na resposta de múltipla escolha como uma nova linha)?*"
   ]
  },
  {
   "cell_type": "code",
   "execution_count": 123,
   "metadata": {},
   "outputs": [
    {
     "name": "stdout",
     "output_type": "stream",
     "text": [
      "4\n",
      "2\n"
     ]
    }
   ],
   "source": [
    "a = [1, 5, 8]\n",
    "b = [2, 6, 9, 10]\n",
    "c = [100, 200]\n",
    "\n",
    "print(max([len(a), len(b), len(c)]))\n",
    "print(min([len(a), len(b), len(c)]))"
   ]
  },
  {
   "cell_type": "markdown",
   "metadata": {},
   "source": [
    "*Qual seria a saída do seguinte código (trate a vírgula na resposta de múltipla escolha como uma nova linha)?*"
   ]
  },
  {
   "cell_type": "code",
   "execution_count": 124,
   "metadata": {},
   "outputs": [
    {
     "name": "stdout",
     "output_type": "stream",
     "text": [
      "Albert & Ben & Carol & Donna\n"
     ]
    }
   ],
   "source": [
    "names = [\"Carol\", \"Albert\", \"Ben\", \"Donna\"]\n",
    "print(\" & \".join(sorted(names)))"
   ]
  },
  {
   "cell_type": "markdown",
   "metadata": {},
   "source": [
    "*Qual seria a saída do seguinte código (trate a vírgula na resposta de múltipla escolha como uma nova linha)?*"
   ]
  },
  {
   "cell_type": "code",
   "execution_count": 125,
   "metadata": {},
   "outputs": [
    {
     "name": "stdout",
     "output_type": "stream",
     "text": [
      "['Albert', 'Ben', 'Carol', 'Donna', 'Eugenia']\n"
     ]
    }
   ],
   "source": [
    "names = [\"Carol\", \"Albert\", \"Ben\", \"Donna\"]\n",
    "names.append(\"Eugenia\")\n",
    "print(sorted(names))"
   ]
  },
  {
   "cell_type": "markdown",
   "metadata": {},
   "source": [
    "<a id='tuplas'></a>\n",
    "### Quiz: Tuplas\n",
    "\n",
    "*Qual seria a saída do seguinte código (trate a vírgula na resposta de múltipla escolha como uma nova linha)?*"
   ]
  },
  {
   "cell_type": "code",
   "execution_count": 126,
   "metadata": {},
   "outputs": [
    {
     "name": "stdout",
     "output_type": "stream",
     "text": [
      "True\n",
      "2\n"
     ]
    }
   ],
   "source": [
    "tuple_a = 1, 2\n",
    "tuple_b = (1, 2)\n",
    "\n",
    "print(tuple_a == tuple_b)\n",
    "print(tuple_a[1])"
   ]
  },
  {
   "cell_type": "markdown",
   "metadata": {},
   "source": [
    "<a id='set'></a>\n",
    "### Quiz: Set\n",
    "\n",
    "*Qual seria a saída do seguinte código?*"
   ]
  },
  {
   "cell_type": "code",
   "execution_count": 127,
   "metadata": {},
   "outputs": [
    {
     "name": "stdout",
     "output_type": "stream",
     "text": [
      "6\n"
     ]
    }
   ],
   "source": [
    "a = [1, 2, 2, 3, 3, 3, 4, 4, 4, 4]\n",
    "b = set(a)\n",
    "print(len(a) - len(b))"
   ]
  },
  {
   "cell_type": "markdown",
   "metadata": {},
   "source": [
    "*Qual seria a saída do seguinte código?*"
   ]
  },
  {
   "cell_type": "code",
   "execution_count": 128,
   "metadata": {},
   "outputs": [
    {
     "data": {
      "text/plain": [
       "1"
      ]
     },
     "execution_count": 128,
     "metadata": {},
     "output_type": "execute_result"
    }
   ],
   "source": [
    "a = [1, 2, 2, 3, 3, 3, 4, 4, 4, 4]\n",
    "b = set(a)\n",
    "b.add(5)\n",
    "b.pop()"
   ]
  },
  {
   "cell_type": "markdown",
   "metadata": {},
   "source": [
    "<a id='dicionario'></a>\n",
    "### Quiz: Dicionário\n",
    "\n",
    "*Defina um dicionario chamado population, que contenha informação sobre as maiores cidades do mundo. A chave deve ser o nome da cidade (string) e seu valor a respectiva população em milhões de pessoas.*\n",
    "\n",
    "| Key      \t| Value \t|\n",
    "|----------\t|-------\t|\n",
    "| Shanghai \t| 17.8  \t|\n",
    "| Istanbul \t| 13.3  \t|\n",
    "| Karachi  \t| 13.0  \t|\n",
    "| Mumbai   \t| 12.5  \t|"
   ]
  },
  {
   "cell_type": "code",
   "execution_count": 129,
   "metadata": {},
   "outputs": [
    {
     "name": "stdout",
     "output_type": "stream",
     "text": [
      "{'Shanghai': 17.8, 'Istanbul': 13.3, 'Mumbai': 12.5, 'Karachi': 13.0}\n"
     ]
    }
   ],
   "source": [
    "population = { \"Shanghai\" : 17.8,\n",
    "             \"Istanbul\" : 13.3,\n",
    "             \"Karachi\" : 13.0,\n",
    "             \"Mumbai\" : 12.5,}\n",
    "\n",
    "print(population)"
   ]
  },
  {
   "cell_type": "markdown",
   "metadata": {},
   "source": [
    "<a id='estruturas_dados_compostas'></a>\n",
    "### Quiz: Estruturas de dados compostas\n",
    "\n",
    "*Experimente trabalhar com dicionários aninhados. Adicione uma outra entrada, 'is_noble_gas', para cada dicionário no dicionário elements. Depois de inserir as novas entradas, você deve ser capaz de executar estas pesquisas:*"
   ]
  },
  {
   "cell_type": "code",
   "execution_count": 130,
   "metadata": {},
   "outputs": [],
   "source": [
    "elements = {'hydrogen': {'number': 1, 'weight': 1.00794, 'symbol': 'H', 'is_noble_gas': False},\n",
    "            'helium': {'number': 2, 'weight': 4.002602, 'symbol': 'He', 'is_noble_gas': True}}\n",
    "\n",
    "# TODO: Adicione uma entrada 'is_noble_gas' para hydrogen e helium identificando se são gases nobres\n",
    "# Dica: helium é um gás nobre, hydrogênio não"
   ]
  },
  {
   "cell_type": "code",
   "execution_count": 131,
   "metadata": {},
   "outputs": [
    {
     "name": "stdout",
     "output_type": "stream",
     "text": [
      "False\n",
      "True\n"
     ]
    }
   ],
   "source": [
    "print(elements['hydrogen']['is_noble_gas'])\n",
    "print(elements['helium']['is_noble_gas'])"
   ]
  },
  {
   "cell_type": "markdown",
   "metadata": {},
   "source": [
    "<a id='exercicios_pratica'></a>\n",
    "### Exercícios para praticar"
   ]
  },
  {
   "cell_type": "markdown",
   "metadata": {},
   "source": [
    "*Conte palavras únicas: encontrar o número de palavras únicas no texto. No editor de código abaixo, complete estes três passos para obter sua resposta.*\n",
    "\n",
    "1. *Separe verse em uma lista de palavras.*\n",
    "2. *Converta a lista para uma estrutura de dados capaz de armazenar apenas seus elementos únicos.*\n",
    "3. *Exiba o comprimento do container escolhido no item 2.*\n",
    "\n",
    "*Dica: Você pode usar um método de string visto nos tópicos anteriores.*"
   ]
  },
  {
   "cell_type": "code",
   "execution_count": 132,
   "metadata": {},
   "outputs": [
    {
     "name": "stdout",
     "output_type": "stream",
     "text": [
      "if you can keep your head when all about you are losing theirs and blaming it on you   if you can trust yourself when all men doubt you     but make allowance for their doubting too   if you can wait and not be tired by waiting      or being lied about  don’t deal in lies   or being hated  don’t give way to hating      and yet don’t look too good  nor talk too wise \n",
      "\n",
      "['if', 'you', 'can', 'keep', 'your', 'head', 'when', 'all', 'about', 'you', 'are', 'losing', 'theirs', 'and', 'blaming', 'it', 'on', 'you', 'if', 'you', 'can', 'trust', 'yourself', 'when', 'all', 'men', 'doubt', 'you', 'but', 'make', 'allowance', 'for', 'their', 'doubting', 'too', 'if', 'you', 'can', 'wait', 'and', 'not', 'be', 'tired', 'by', 'waiting', 'or', 'being', 'lied', 'about', 'don’t', 'deal', 'in', 'lies', 'or', 'being', 'hated', 'don’t', 'give', 'way', 'to', 'hating', 'and', 'yet', 'don’t', 'look', 'too', 'good', 'nor', 'talk', 'too', 'wise'] \n",
      "\n",
      "{'keep', 'not', 'all', 'for', 'it', 'tired', 'head', 'allowance', 'good', 'in', 'lied', 'men', 'about', 'way', 'and', 'yet', 'losing', 'yourself', 'too', 'theirs', 'give', 'or', 'being', 'by', 'don’t', 'you', 'doubting', 'wise', 'hating', 'when', 'blaming', 'doubt', 'talk', 'waiting', 'be', 'lies', 'deal', 'trust', 'hated', 'nor', 'are', 'but', 'your', 'look', 'to', 'can', 'if', 'on', 'make', 'their', 'wait'} \n",
      "\n",
      "51 \n",
      "\n"
     ]
    }
   ],
   "source": [
    "verse = \"if you can keep your head when all about you are losing theirs and blaming it on you   if you can trust yourself when all men doubt you     but make allowance for their doubting too   if you can wait and not be tired by waiting      or being lied about  don’t deal in lies   or being hated  don’t give way to hating      and yet don’t look too good  nor talk too wise\"\n",
    "print(verse, '\\n')\n",
    "\n",
    "# split verse into list of words\n",
    "verse_list = verse.split()\n",
    "print(verse_list, '\\n')\n",
    "\n",
    "# convert list to a data structure that stores unique elements\n",
    "verse_set = set(verse_list)\n",
    "print(verse_set, '\\n')\n",
    "\n",
    "num_unique = len(verse_set)\n",
    "print(num_unique, '\\n')"
   ]
  },
  {
   "cell_type": "markdown",
   "metadata": {},
   "source": [
    "*Dicionário de versos: no código abaixo, você encontrará um dicionário contendo as palavras únicas de verse armazenadas como chaves e o número de vezes que elas apareceram em verse armazenadas como valores. Use este dicionário para responder as perguntas a seguir. Envie estas respostas no quiz abaixo do editor de código.*\n",
    "\n",
    "*Tente responder o quiz usando código, em vez de inspecionar o dicionário manualmente!*\n",
    "\n",
    "1. *Quantas palavras únicas existem em verse_dict?*\n",
    "2. *A chave \"breathe\" está contida em verse_dict?*\n",
    "3. *Qual é o primeiro elemento da lista criada quando verse_dict é ordenado segundo suas chaves?*\n",
    "4. *Qual é o último elemento da lista criada quando verse_dict é ordenado segundo suas chaves?*\n",
    "\n",
    "*Dica: Use o método keys() para obter uma lista das chaves do dicionário, e então use o método apropriado para ordenar esta lista. Use esta lista ordenada de chaves para responder as perguntas 3 e 4.*"
   ]
  },
  {
   "cell_type": "code",
   "execution_count": 133,
   "metadata": {},
   "outputs": [
    {
     "name": "stdout",
     "output_type": "stream",
     "text": [
      "{'keep': 1, 'not': 1, 'all': 2, 'for': 1, 'wise': 1, 'it': 1, 'talk': 1, 'tired': 1, 'head': 1, 'allowance': 1, 'in': 1, 'lied': 1, 'men': 1, 'about': 2, 'way': 1, 'good': 1, 'and': 3, 'yet': 1, 'losing': 1, 'too': 3, 'theirs': 1, 'give': 1, 'make': 1, 'or': 2, 'being': 2, 'by': 1, 'you': 6, 'doubting': 1, 'their': 1, 'trust': 1, 'hating': 1, 'when': 2, 'blaming': 1, 'doubt': 1, 'nor': 1, 'waiting': 1, 'be': 1, 'lies': 1, 'deal': 1, 'hated': 1, \"don't\": 3, 'are': 1, 'yourself': 1, 'but': 1, 'your': 1, 'look': 1, 'to': 1, 'can': 3, 'if': 3, 'on': 1, 'wait': 1} \n",
      "\n",
      "51\n",
      "None\n",
      "about\n",
      "yourself\n"
     ]
    }
   ],
   "source": [
    "verse_dict =  {'if': 3, 'you': 6, 'can': 3, 'keep': 1, 'your': 1, 'head': 1, 'when': 2, 'all': 2, 'about': 2, 'are': 1, 'losing': 1, 'theirs': 1, 'and': 3, 'blaming': 1, 'it': 1, 'on': 1, 'trust': 1, 'yourself': 1, 'men': 1, 'doubt': 1, 'but': 1, 'make': 1, 'allowance': 1, 'for': 1, 'their': 1, 'doubting': 1, 'too': 3, 'wait': 1, 'not': 1, 'be': 1, 'tired': 1, 'by': 1, 'waiting': 1, 'or': 2, 'being': 2, 'lied': 1, 'don\\'t': 3, 'deal': 1, 'in': 1, 'lies': 1, 'hated': 1, 'give': 1, 'way': 1, 'to': 1, 'hating': 1, 'yet': 1, 'look': 1, 'good': 1, 'nor': 1, 'talk': 1, 'wise': 1}\n",
    "print(verse_dict, '\\n')\n",
    "\n",
    "# find number of unique keys in the dictionary\n",
    "num_keys = len(set(verse_dict))\n",
    "print(num_keys)\n",
    "\n",
    "# find whether 'breathe' is a key in the dictionary\n",
    "contains_breathe = verse_dict.get('breathe')\n",
    "print(contains_breathe)\n",
    "\n",
    "# create and sort a list of the dictionary's keys\n",
    "sorted_keys = sorted(verse_dict.keys())\n",
    "\n",
    "# get the first element in the sorted list of keys\n",
    "print(sorted_keys[0])\n",
    "\n",
    "# find the element with the highest value in the list of keys\n",
    "print(sorted_keys[-1]) "
   ]
  },
  {
   "cell_type": "markdown",
   "metadata": {},
   "source": [
    "<a id='controle_fluxo'></a>\n",
    "## Controle de Fluxo"
   ]
  },
  {
   "cell_type": "markdown",
   "metadata": {},
   "source": [
    "<a id='declaracao_condicional'></a>\n",
    "### Quiz: Declarações condicionais\n",
    "\n",
    "*A tabela abaixo apresenta qual é o prêmio que um concorrente de uma competição ganharia com uma determinada quantidade de pontos. Escreva uma declaração if que permite que um concorrente saiba qual destes prêmios ganhou, com base no número de pontos marcado (no código, representada pela variável de tipo inteiro points).*\n",
    "\n",
    "| Pontos    \t| Prêmio          \t|\n",
    "|-----------\t|-----------------\t|\n",
    "| 1 - 50    \t| wooden rabbit   \t|\n",
    "| 51 - 150  \t| nenhum prêmio   \t|\n",
    "| 151 - 180 \t| wafer-thin mint \t|\n",
    "| 181 - 200 \t| penguin         \t|\n",
    "\n",
    "*Todos os limites inferiores e superiores aqui são inclusivos, e points pode assumir apenas valores inteiros positivos até 200. Ou seja, não é necessário se preocupar com o resultado obtido para números fora das faixas apresentadas na tabela.*\n",
    "\n",
    "*Na sua declaração if, atribua à variável result uma string contendo a mensagem apropriada com base no valor de points:*\n",
    "1. *Se eles ganharam um prêmio, deve exibir a mensagem \"Congratulations! You won a [prize name]!\", com o nome do prêmio.*\n",
    "2. *Caso o concorrente não ganhe nenhum prêmio (points na faixa 51-150), deve exibir a mensagem \"Oh dear, no prize this time.\".*\n",
    "*OBS: Ao enviar sua solução points deve ter valor 174 para que o quiz seja corrigido corretamente.*"
   ]
  },
  {
   "cell_type": "code",
   "execution_count": 134,
   "metadata": {},
   "outputs": [
    {
     "name": "stdout",
     "output_type": "stream",
     "text": [
      "Congratulations! You won a wafer-thin mint!\n"
     ]
    }
   ],
   "source": [
    "result = \"\"\n",
    "points = 174\n",
    "\n",
    "if points <= 50:\n",
    "    result = \"Congratulations! You won a wooden rabbit!\"\n",
    "elif points <= 150:\n",
    "    result = \"Oh dear, no prize this time.\"\n",
    "elif points <= 180:\n",
    "    result = \"Congratulations! You won a wafer-thin mint!\"\n",
    "else:\n",
    "    result = \"Congratulations! You won a penguin!\"\n",
    "    \n",
    "print(result)"
   ]
  },
  {
   "cell_type": "markdown",
   "metadata": {},
   "source": [
    "<a id='exp_booleana'></a>\n",
    "### Quiz: Expressões booleanas para condições\n",
    "\n",
    "*Reescreva seu código do quiz anterior. Qual é o prêmio, usando o que aprendeu sobre valores verdade. Comece definindo a variável prize para None e, em seguida, use uma declaração if para reatribuir o nome apropriado do prêmio ao 'Prêmio', caso eles tenham ganhado um prêmio. Depois disso, use outra declaração if para atribuir result à string correta baseada no valor verdade de prize. Assim, não teremos múltiplas atribuições de resultado.*"
   ]
  },
  {
   "cell_type": "code",
   "execution_count": 135,
   "metadata": {},
   "outputs": [
    {
     "name": "stdout",
     "output_type": "stream",
     "text": [
      "Congratulations! You won a wafer-thin mint!\n"
     ]
    }
   ],
   "source": [
    "result = \"\"\n",
    "points = 174\n",
    "prize = None\n",
    "\n",
    "if points >= 1 and points <=50:\n",
    "    prize = \"wooden rabbit\"\n",
    "elif points >= 151 and points <= 180:    \n",
    "    prize = \"wafer-thin mint\"\n",
    "elif points >= 181 and points <= 200:    \n",
    "    prize = \"penguin\"   \n",
    "    \n",
    "if points >= 51 and points <= 150:\n",
    "    result = \"Oh dear, no prize this time.\"\n",
    "else:\n",
    "    result = \"Congratulations! You won a {}!\".format(prize)\n",
    "    \n",
    "print(result)"
   ]
  },
  {
   "cell_type": "markdown",
   "metadata": {},
   "source": [
    "<a id='for'></a>\n",
    "### Quiz: Loops for\n",
    "\n",
    "*Escreva um loop for que itere sobre a lista names para criar uma lista usernames. Para criar um nome de usuário para cada nome, faça tudo em letras minúsculas e substitua os espaços por sublinhados. Executando seu loop for sobre a lista:*\n",
    "\n",
    "*names = [\"Joey Tribbiani\", \"Monica Geller\", \"Chandler Bing\", \"Phoebe Buffay\"]*\n",
    "\n",
    "*deve criar a lista:*\n",
    "\n",
    "*usernames = [\"joey_tribbiani\", \"monica_geller\", \"chandler_bing\", \"phoebe_buffay\"]*"
   ]
  },
  {
   "cell_type": "code",
   "execution_count": 136,
   "metadata": {},
   "outputs": [
    {
     "name": "stdout",
     "output_type": "stream",
     "text": [
      "['joey_tribbiani', 'monica_geller', 'chandler_bing', 'phoebe_buffay']\n"
     ]
    }
   ],
   "source": [
    "names = [\"Joey Tribbiani\", \"Monica Geller\", \"Chandler Bing\", \"Phoebe Buffay\"]\n",
    "usernames = []\n",
    "\n",
    "for i in names:\n",
    "    usernames.append(i.lower().replace(\" \", \"_\"))\n",
    "\n",
    "print(usernames)"
   ]
  },
  {
   "cell_type": "markdown",
   "metadata": {},
   "source": [
    "*Escreva um loop que usa range() para iterar sobre as posições em usernames e modificar a lista. Como você fez no quiz anterior, altere cada nome para que tenha letras minúsculas e substitua os espaços por sublinhados. Depois de executar seu loop, esta lista*\n",
    "\n",
    "*usernames = [\"Joey Tribbiani\", \"Monica Geller\", \"Chandler Bing\", \"Phoebe Buffay\"]*\n",
    "\n",
    "*deve mudar para isto:*\n",
    "\n",
    "*usernames = [\"joey_tribbiani\", \"monica_geller\", \"chandler_bing\", \"phoebe_buffay\"]*"
   ]
  },
  {
   "cell_type": "code",
   "execution_count": 137,
   "metadata": {},
   "outputs": [
    {
     "name": "stdout",
     "output_type": "stream",
     "text": [
      "['joey_tribbiani', 'monica_geller', 'chandler_bing', 'phoebe_buffay']\n"
     ]
    }
   ],
   "source": [
    "usernames = [\"Joey Tribbiani\", \"Monica Geller\", \"Chandler Bing\", \"Phoebe Buffay\"]\n",
    "\n",
    "for i in range(len(usernames)):\n",
    "    usernames[i] = usernames[i].lower().replace(\" \", \"_\")\n",
    "\n",
    "print(usernames)"
   ]
  },
  {
   "cell_type": "markdown",
   "metadata": {},
   "source": [
    "*Escrever um loop for que itere sobre uma lista de strings e tokens e conte quantos deles existem tags XML. XML é uma linguagem de dados semelhante ao HTML. Você pode dizer que uma string é uma tag XML se ela começar com um colchete angular esquerdo \"<\" e acabar com um colchete angular direito \">\". Monitore o número de tags utilizando a variável count.*\n",
    "\n",
    "*Você pode assumir que a lista de strings não vai conter strings vazias.*"
   ]
  },
  {
   "cell_type": "code",
   "execution_count": 138,
   "metadata": {},
   "outputs": [
    {
     "name": "stdout",
     "output_type": "stream",
     "text": [
      "2\n"
     ]
    }
   ],
   "source": [
    "tokens = ['<greeting>', 'Hello World!', '</greeting>']\n",
    "\n",
    "count = 0\n",
    "for token in tokens:\n",
    "    if token[0] == '<' and token[-1] == '>':\n",
    "        count += 1\n",
    "\n",
    "print(count)"
   ]
  },
  {
   "cell_type": "markdown",
   "metadata": {},
   "source": [
    "*Escreva um loop for que itere sobre uma lista de strings e crie uma única string, html_str, que é uma lista HTML.*"
   ]
  },
  {
   "cell_type": "code",
   "execution_count": 139,
   "metadata": {},
   "outputs": [
    {
     "name": "stdout",
     "output_type": "stream",
     "text": [
      "<ul>\n",
      "<li>first string</li>\n",
      "<li>second string</li>\n",
      "</ul>\n"
     ]
    }
   ],
   "source": [
    "items = ['first string', 'second string']\n",
    "\n",
    "html_str = \"<ul>\\n\"\n",
    "for item in items:\n",
    "    html_str += \"<li>{}</li>\\n\".format(item)\n",
    "html_str += \"</ul>\"\n",
    "\n",
    "print(html_str)"
   ]
  },
  {
   "cell_type": "markdown",
   "metadata": {},
   "source": [
    "<a id='while'></a>\n",
    "### Quiz: Loops while\n",
    "\n",
    "*Escreva um loop while que encontra o maior número quadrado que seja menor que um inteiro limit e armazena-o na variável nearest_square. Um número quadrado é o produto de um número inteiro multiplicado por si mesmo, por exemplo, 36 é um número quadrado, porque é igual a 6*6.*\n",
    "\n",
    "*Por exemplo, se limit for 40, seu código deve definir o nearest_square para 36.*"
   ]
  },
  {
   "cell_type": "code",
   "execution_count": 140,
   "metadata": {},
   "outputs": [
    {
     "name": "stdout",
     "output_type": "stream",
     "text": [
      "36\n"
     ]
    }
   ],
   "source": [
    "limit = 40\n",
    "\n",
    "num = 0\n",
    "while (num+1)**2 < limit:\n",
    "    num += 1\n",
    "nearest_square = num**2\n",
    "\n",
    "print(nearest_square)"
   ]
  },
  {
   "cell_type": "markdown",
   "metadata": {},
   "source": [
    "### Quiz: Pausa e continuação\n",
    "\n",
    "*Escreva um loop com uma declaração break para criar uma string, news_ticker, que tenha exatamente 140 caracteres de tamanho. Você deve criar o ticker de notícias adicionando manchetes da lista headlines, inserindo um espaço entre cada uma. Se necessário, você pode truncar a última manchete no meio, para que news_ticker tenha exatamente 140 caracteres de tamanho.*\n",
    "\n",
    "*Lembre-se de que a break funciona tanto para loops while como para for. Use o loop que parecer mais apropriado. Considere adicionar declarações print a seu código para ajudá-lo a resolver bugs.*"
   ]
  },
  {
   "cell_type": "code",
   "execution_count": 141,
   "metadata": {},
   "outputs": [
    {
     "name": "stdout",
     "output_type": "stream",
     "text": [
      "Local Bear Eaten by Man Legislature Announces New Laws Peasant Discovers Violence Inherent in System Cat Rescues Fireman Stuck in Tree Brave\n"
     ]
    }
   ],
   "source": [
    "headlines = [\"Local Bear Eaten by Man\",\n",
    "             \"Legislature Announces New Laws\",\n",
    "             \"Peasant Discovers Violence Inherent in System\",\n",
    "             \"Cat Rescues Fireman Stuck in Tree\",\n",
    "             \"Brave Knight Runs Away\",\n",
    "             \"Papperbok Review: Totally Triffic\"]\n",
    "\n",
    "news_ticker = \"\"\n",
    "for headline in headlines:\n",
    "    news_ticker += headline + \" \"\n",
    "    if len(news_ticker) >= 140:\n",
    "        news_ticker = news_ticker[:140]\n",
    "        break\n",
    "\n",
    "print(news_ticker)"
   ]
  },
  {
   "cell_type": "markdown",
   "metadata": {},
   "source": [
    "<a id='enumeration'></a>\n",
    "### Quiz: Zip e enumeração\n",
    "\n",
    "*Use zip para gravar um loop for que cria uma string especificando o rótulo e as coordenadas de cada ponto e acrescenta à lista points. Cada string deve ser formatada como label: x, y, z. Por exemplo, a string para a primeira coordenada deve ser F: 23, 677, 4.*"
   ]
  },
  {
   "cell_type": "code",
   "execution_count": 142,
   "metadata": {},
   "outputs": [
    {
     "name": "stdout",
     "output_type": "stream",
     "text": [
      "F: 23, 677, 4\n",
      "J: 53, 233, 16\n",
      "A: 2, 405, -6\n",
      "Q: -12, 433, -42\n",
      "Y: 95, 905, 3\n",
      "B: 103, 376, -6\n",
      "W: 14, 432, 23\n",
      "X: -5, 445, -1\n"
     ]
    }
   ],
   "source": [
    "x_coord = [23, 53, 2, -12, 95, 103, 14, -5]\n",
    "y_coord = [677, 233, 405, 433, 905, 376, 432, 445]\n",
    "z_coord = [4, 16, -6, -42, 3, -6, 23, -1]\n",
    "labels = [\"F\", \"J\", \"A\", \"Q\", \"Y\", \"B\", \"W\", \"X\"]\n",
    "\n",
    "points = []\n",
    "for point in zip(labels, x_coord, y_coord, z_coord):\n",
    "    points.append(\"{}: {}, {}, {}\".format(*point))\n",
    "\n",
    "for point in points:\n",
    "    print(point)"
   ]
  },
  {
   "cell_type": "markdown",
   "metadata": {},
   "source": [
    "*Use zip para criar um dicionário cast que usa names como chave e heights como valores.*"
   ]
  },
  {
   "cell_type": "code",
   "execution_count": 143,
   "metadata": {},
   "outputs": [
    {
     "name": "stdout",
     "output_type": "stream",
     "text": [
      "{'Barney': 72, 'Robin': 68, 'Ted': 72, 'Marshall': 76, 'Lily': 66}\n"
     ]
    }
   ],
   "source": [
    "cast_names = [\"Barney\", \"Robin\", \"Ted\", \"Lily\", \"Marshall\"]\n",
    "cast_heights = [72, 68, 72, 66, 76]\n",
    "\n",
    "cast = dict(zip(cast_names, cast_heights))\n",
    "print(cast)"
   ]
  },
  {
   "cell_type": "markdown",
   "metadata": {},
   "source": [
    "*Descompacte a tupla cast em duas tuplas, names e heights.*"
   ]
  },
  {
   "cell_type": "code",
   "execution_count": 144,
   "metadata": {},
   "outputs": [
    {
     "name": "stdout",
     "output_type": "stream",
     "text": [
      "('Barney', 'Robin', 'Ted', 'Lily', 'Marshall')\n",
      "(72, 68, 72, 66, 76)\n"
     ]
    }
   ],
   "source": [
    "cast = ((\"Barney\", 72), (\"Robin\", 68), (\"Ted\", 72), (\"Lily\", 66), (\"Marshall\", 76))\n",
    "\n",
    "names, heights = zip(*cast)\n",
    "print(names)\n",
    "print(heights)"
   ]
  },
  {
   "cell_type": "markdown",
   "metadata": {},
   "source": [
    "*Use zip para transpor data de uma matriz 4 por 3 para uma matriz 3 por 4. Na verdade, existe um truque legal para isso! Fique à vontade para olhar para as soluções, caso não consiga descobrir.*"
   ]
  },
  {
   "cell_type": "code",
   "execution_count": 145,
   "metadata": {},
   "outputs": [
    {
     "name": "stdout",
     "output_type": "stream",
     "text": [
      "((0, 3, 6, 9), (1, 4, 7, 10), (2, 5, 8, 11))\n"
     ]
    }
   ],
   "source": [
    "data = ((0, 1, 2), (3, 4, 5), (6, 7, 8), (9, 10, 11))\n",
    "\n",
    "data_transpose = tuple(zip(*data))\n",
    "print(data_transpose)"
   ]
  },
  {
   "cell_type": "markdown",
   "metadata": {},
   "source": [
    "*Use enumerate para modificar a lista cast para que cada elemento contenha o nome seguido da altura correspondente do personagem. Por exemplo, o primeiro elemento de cast deve mudar de \"Barney Stinson\" para \"Barney Stinson 72\".*"
   ]
  },
  {
   "cell_type": "code",
   "execution_count": 146,
   "metadata": {},
   "outputs": [
    {
     "name": "stdout",
     "output_type": "stream",
     "text": [
      "['Barney Stinson 72', 'Robin Scherbatsky 68', 'Ted Mosby 72', 'Lily Aldrin 66', 'Marshall Eriksen 76']\n"
     ]
    }
   ],
   "source": [
    "cast = [\"Barney Stinson\", \"Robin Scherbatsky\", \"Ted Mosby\", \"Lily Aldrin\", \"Marshall Eriksen\"]\n",
    "heights = [72, 68, 72, 66, 76]\n",
    "\n",
    "for i, character in enumerate(cast):\n",
    "    cast[i] = character + \" \" + str(heights[i])\n",
    "\n",
    "print(cast)"
   ]
  },
  {
   "cell_type": "markdown",
   "metadata": {},
   "source": [
    "<a id='compreensao_lista'></a>\n",
    "### Quiz: Compreensão de listas\n",
    "\n",
    "*Use uma compreensão de listas para criar uma nova lista first_names, que contém apenas os primeiros nomes em names em letras minúsculas.*"
   ]
  },
  {
   "cell_type": "code",
   "execution_count": 147,
   "metadata": {},
   "outputs": [
    {
     "name": "stdout",
     "output_type": "stream",
     "text": [
      "['rick', 'morty', 'summer', 'jerry', 'beth']\n"
     ]
    }
   ],
   "source": [
    "names = [\"Rick Sanchez\", \"Morty Smith\", \"Summer Smith\", \"Jerry Smith\", \"Beth Smith\"]\n",
    "\n",
    "first_names = [name.split()[0].lower() for name in names]\n",
    "print(first_names)"
   ]
  },
  {
   "cell_type": "markdown",
   "metadata": {},
   "source": [
    "*Use uma compreensão de listas para criar uma lista multiples_3, contendo os 20 primeiros múltiplos de 3.*"
   ]
  },
  {
   "cell_type": "code",
   "execution_count": 148,
   "metadata": {},
   "outputs": [
    {
     "name": "stdout",
     "output_type": "stream",
     "text": [
      "[3, 6, 9, 12, 15, 18, 21, 24, 27, 30, 33, 36, 39, 42, 45, 48, 51, 54, 57, 60]\n"
     ]
    }
   ],
   "source": [
    "multiples_3 = [x * 3 for x in range(1, 21)]\n",
    "print(multiples_3)"
   ]
  },
  {
   "cell_type": "markdown",
   "metadata": {},
   "source": [
    "*Use uma compreensão de lista para criar uma lista de nomes passed, que só incluem aqueles que marcaram pelo menos 65 pontos.*"
   ]
  },
  {
   "cell_type": "code",
   "execution_count": 149,
   "metadata": {},
   "outputs": [
    {
     "name": "stdout",
     "output_type": "stream",
     "text": [
      "['Beth Smith', 'Summer Smith', 'Rick Sanchez']\n"
     ]
    }
   ],
   "source": [
    "scores = {\n",
    "             \"Rick Sanchez\": 70,\n",
    "             \"Morty Smith\": 35,\n",
    "             \"Summer Smith\": 82,\n",
    "             \"Jerry Smith\": 23,\n",
    "             \"Beth Smith\": 98\n",
    "          }\n",
    "\n",
    "passed = [name for name, score in scores.items() if score >= 65]\n",
    "print(passed)"
   ]
  },
  {
   "cell_type": "markdown",
   "metadata": {},
   "source": [
    "<a id='funcoes'></a>\n",
    "## Funções"
   ]
  },
  {
   "cell_type": "markdown",
   "metadata": {},
   "source": [
    "<a id='definindo_funcoes'></a>\n",
    "### Quiz: Definindo funções\n",
    "\n",
    "*Escreva uma função chamada population_density que aceita dois argumentos, population e land_area, e devolve uma densidade populacional calculada a partir desses valores. Eu incluí dois casos de teste que você pode usar para verificar se sua função funciona corretamente. Uma vez que você já escreveu sua função, use o botão de execução de teste para testar seu código.*"
   ]
  },
  {
   "cell_type": "code",
   "execution_count": 150,
   "metadata": {},
   "outputs": [
    {
     "name": "stdout",
     "output_type": "stream",
     "text": [
      "expected result: 10, actual result: 10.0\n",
      "expected result: 7123.6902801, actual result: 7123.690280065897\n"
     ]
    }
   ],
   "source": [
    "def population_density(population, land_area):\n",
    "    return population/land_area\n",
    "\n",
    "test1 = population_density(10, 1)\n",
    "expected_result1 = 10\n",
    "print(\"expected result: {}, actual result: {}\".format(expected_result1, test1))\n",
    "\n",
    "test2 = population_density(864816, 121.4)\n",
    "expected_result2 = 7123.6902801\n",
    "print(\"expected result: {}, actual result: {}\".format(expected_result2, test2))"
   ]
  },
  {
   "cell_type": "markdown",
   "metadata": {},
   "source": [
    "*Escreva uma função chamada readable_timedelta que receba um argumento, um número inteiro days, e devolva uma string que diz quantas semanas e dias esse número representa. Por exemplo, readable_timedelta(10) deve devolver, \"1 week(s) and 3 day(s).\"*"
   ]
  },
  {
   "cell_type": "code",
   "execution_count": 151,
   "metadata": {},
   "outputs": [
    {
     "name": "stdout",
     "output_type": "stream",
     "text": [
      "1 week(s) and 3 day(s).\n"
     ]
    }
   ],
   "source": [
    "def readable_timedelta(days):\n",
    "    weeks = days // 7\n",
    "    remainder = days % 7\n",
    "    return \"{} week(s) and {} day(s).\".format(weeks, remainder)\n",
    "\n",
    "print(readable_timedelta(10))"
   ]
  },
  {
   "cell_type": "code",
   "execution_count": 152,
   "metadata": {},
   "outputs": [],
   "source": [
    "def population_density(population, land_area):\n",
    "    \"\"\"Calculate the population density of an area. \"\"\"\n",
    "    return population / land_area"
   ]
  },
  {
   "cell_type": "markdown",
   "metadata": {},
   "source": [
    "<a id='exp_lambda'></a>\n",
    "### Quiz: Expressões lambda\n",
    "\n",
    "*map() é uma função interna de ordem superior que aceita uma função e um iterável como entradas e devolve um iterador que aplica a função para cada elemento do iterável. O código abaixo usa map() para encontrar a média de cada lista em numbers e criar a lista averages. Teste para ver o que acontece.*\n",
    "\n",
    "*Reescreva esse código para ser mais conciso, substituindo a função mean por uma expressão lambda definida dentro da chamada de map().*\n",
    "\n",
    "*Em outras palavras: map recebe qualquer função como primeiro parâmetro e uma lista como segundo parâmetro, nesse exemplo a função mean e a lista numbers, e aplica a função a todos elementos da lista, um a um. O resultado obtido é um objeto do tipo map com as médias de cada lista em numbers. Na linha 11, o retorno da função é convertido de volta para list.*"
   ]
  },
  {
   "cell_type": "code",
   "execution_count": 153,
   "metadata": {},
   "outputs": [
    {
     "name": "stdout",
     "output_type": "stream",
     "text": [
      "[57.0, 58.2, 50.6, 27.2]\n"
     ]
    }
   ],
   "source": [
    "numbers = [\n",
    "              [34, 63, 88, 71, 29],\n",
    "              [90, 78, 51, 27, 45],\n",
    "              [63, 37, 85, 46, 22],\n",
    "              [51, 22, 34, 11, 18]\n",
    "           ]\n",
    "\n",
    "def mean(num_list):\n",
    "    return sum(num_list) / len(num_list)\n",
    "\n",
    "averages = list(map(mean, numbers))\n",
    "print(averages)"
   ]
  },
  {
   "cell_type": "markdown",
   "metadata": {},
   "source": [
    "*filter() é uma função interna de ordem superior que aceita uma função e um iterável como entradas e devolve um iterador com os elementos do iterável para os quais a função retorna o valor true. O código abaixo usa filter() para obter os nomes em cities que possuem menos de 10 caracteres de tamanho para criar a lista short_cities. Execute um teste para ver o que acontece.*\n",
    "\n",
    "*Reescreva esse código para ser mais conciso, substituindo a função is_short por uma expressão lambda definida dentro da chamada de filter().*"
   ]
  },
  {
   "cell_type": "code",
   "execution_count": 154,
   "metadata": {},
   "outputs": [
    {
     "name": "stdout",
     "output_type": "stream",
     "text": [
      "['Chicago', 'Denver', 'Boston']\n"
     ]
    }
   ],
   "source": [
    "cities = [\"New York City\", \"Los Angeles\", \"Chicago\", \"Mountain View\", \"Denver\", \"Boston\"]\n",
    "\n",
    "def is_short(name):\n",
    "    return len(name) < 10\n",
    "\n",
    "short_cities = list(filter(is_short, cities))\n",
    "print(short_cities)"
   ]
  },
  {
   "cell_type": "markdown",
   "metadata": {},
   "source": [
    "<a id='scripting'></a>\n",
    "## Scripting"
   ]
  },
  {
   "cell_type": "markdown",
   "metadata": {},
   "source": [
    "<a id='erros'></a>\n",
    "### Quiz: Lidando com erros\n",
    "\n",
    "*Neste momento, executar o código abaixo causará um erro durante a segunda recorrência à função create_groups porque ela se depara com uma exceção ZeroDivisionError. Edite a função abaixo para lidar com esta exceção. Se ela se depara com a exceção durante a primeira linha da função, deve exibir uma mensagem de aviso e retornar uma lista vazia. Caso contrário, ela deve executar o resto do código da função. No final, a função deve sempre exibir quantos grupos foram devolvidos.*"
   ]
  },
  {
   "cell_type": "code",
   "execution_count": 155,
   "metadata": {},
   "outputs": [
    {
     "name": "stdout",
     "output_type": "stream",
     "text": [
      "Creating 6 groups...\n",
      "6 groups returned.\n",
      "[0, 1, 2, 3, 4]\n",
      "[5, 6, 7, 8, 9]\n",
      "[10, 11, 12, 13, 14]\n",
      "[15, 16, 17, 18, 19]\n",
      "[20, 21, 22, 23, 24]\n",
      "[25, 26, 27, 28, 29]\n",
      "[30, 31]\n",
      "\n",
      "Creating 0 groups...\n",
      "WARNING: Returning empty list. Please use a nonzero number.\n",
      "0 groups returned.\n"
     ]
    }
   ],
   "source": [
    "def create_groups(items, n):\n",
    "    try:\n",
    "        size = len(items) // n\n",
    "    except ZeroDivisionError:\n",
    "        print(\"WARNING: Returning empty list. Please use a nonzero number.\")\n",
    "        return []\n",
    "    else:\n",
    "        groups = []\n",
    "        for i in range(0, len(items), size):\n",
    "            groups.append(items[i:i + size])\n",
    "        return groups\n",
    "    finally:\n",
    "        print(\"{} groups returned.\".format(n))\n",
    "\n",
    "print(\"Creating 6 groups...\")\n",
    "for group in create_groups(range(32), 6):\n",
    "    print(list(group))\n",
    "\n",
    "print(\"\\nCreating 0 groups...\")\n",
    "for group in create_groups(range(32), 0):\n",
    "    print(list(group))"
   ]
  },
  {
   "cell_type": "markdown",
   "metadata": {},
   "source": [
    "<a id='projeto_chicago'></a>\n",
    "## Projeto: Explore os dados de bicicletas compartilhadas de Chicago"
   ]
  },
  {
   "cell_type": "markdown",
   "metadata": {},
   "source": [
    "***Dados sobre compartilhamento de bicicletas***  \n",
    "\n",
    "*Na última década, os sistemas de compartilhamento de bicicletas têm crescido em número e popularidade nas cidades de todo o mundo. Sistemas de compartilhamento de bicicletas permitem que os usuários aluguem bicicletas por um período curtíssimo, por um preço específico. Isso permite que pessoas retirem uma bicicleta do ponto A e a devolvam no ponto B, embora também possam devolvê-la no mesmo local, caso queiram apenas sair para um passeio. Independentemente disso, cada bicicleta pode servir vários usuários por dia.*\n",
    "\n",
    "*Graças à ascensão das tecnologias de informação, é fácil para um usuário acessar uma estação dentro do sistema para desbloquear ou devolver as bicicletas. Essas tecnologias também fornecem uma riqueza de dados que podem ser utilizados para explorar como esses sistemas de compartilhamento de bicicletas são usados.*\n",
    "\n",
    "*Neste projeto, você usará os dados fornecidos pelo Motivate, um provedor de sistema de bicicletas compartilhadas para diversas grandes cidades dos Estados Unidos, para descobrir os padrões de uso do compartilhamento de bicicletas. Você analisará o uso do sistema de uma das maiores cidades dos Estados Unidos: Chicago.*"
   ]
  },
  {
   "cell_type": "markdown",
   "metadata": {},
   "source": [
    "***Conjunto de Dados***  \n",
    "\n",
    "*Os dados para os primeiros seis meses de 2017 são fornecidos. O arquivo de dados contêm seis (6) colunas principais:*\n",
    "\n",
    "* *Horário de início (ex., 2017-01-01 00:07:57)*\n",
    "* *Horário de término (ex., 2017-01-01 00:20:53)*\n",
    "* *Duração da viagem (em segundos, ex., 776)*\n",
    "* *Estação inicial (ex., Broadway & Barry Avenue)*\n",
    "* *Estação final (ex., Sedgwick St & do North Ave)*\n",
    "* *Tipo de usuário (assinante ou cliente)*\n",
    "* *Gênero do usuário*\n",
    "* *Ano de nascimento do usuário*\n",
    "\n",
    "*Os arquivos originais - que podem ser acessados aqui: [Chicago](https://www.divvybikes.com/system-data), [Nova Iorque](https://www.citibikenyc.com/system-data) e [Washington](https://www.capitalbikeshare.com/system-data) - tinham mais colunas, e elas diferiam em formato em muitos casos. Alguns processos de data wrangling foram realizados para condensar esses arquivos nas seis colunas principais citadas acima, para simplificar sua análise e a avaliação de suas habilidades de Python. No curso de [data wrangling](https://en.wikipedia.org/wiki/Data_wrangling) que sucede este curso no programa, os alunos aprendem a manipular os conjuntos de dados mais obscuros e desorganizados, então não se preocupe em perder algo.*"
   ]
  },
  {
   "cell_type": "markdown",
   "metadata": {},
   "source": [
    "***Perguntas***  \n",
    "*Você vai escrever um código para completar as seguintes tarefas sobre os dados de compartilhamento de bicicletas:*\n",
    "\n",
    "* *Tarefa 1: Mostre as 20 primeiras amostras (linhas) da base de dados*\n",
    "* *Tarefa 2: Mostre o gênero (coluna) das 20 primeiras amostras*\n",
    "* *Tarefa 3: Cria uma função para pegar colunas como lista*\n",
    "* *Tarefa 4: Conte quantas pessoas de cada gênero*\n",
    "* *Tarefa 5: Crie uma função para contar os gêneros*\n",
    "* *Tarefa 6: Mostre o gênero mais popular*\n",
    "* *Tarefa 7: Mostre um gráfico usando os dados anteriores*\n",
    "* *Tarefa 8: Responda o motivo do número de homens e mulheres não bater com a quantidade de amostras*\n",
    "* *Tarefa 9: Encontre o valor mínimo, máximo, média e mediana da duração de viagens*\n",
    "* *Tarefa 10: Mostre todas as estações da base de dados*\n",
    "* *Tarefa 11: Confira se documentou todas suas funções*\n",
    "* *Tarefa 12: Crie uma função que conte a ocorrência de qualquer coluna (opcional)*"
   ]
  },
  {
   "cell_type": "code",
   "execution_count": 156,
   "metadata": {},
   "outputs": [],
   "source": [
    "import csv\n",
    "import matplotlib.pyplot as plt"
   ]
  },
  {
   "cell_type": "code",
   "execution_count": 157,
   "metadata": {},
   "outputs": [
    {
     "name": "stdout",
     "output_type": "stream",
     "text": [
      "Lendo o documento...\n",
      "Terminado!\n"
     ]
    }
   ],
   "source": [
    "print(\"Lendo o documento...\")\n",
    "\n",
    "with open(\"chicago.csv\", \"r\") as file_read:\n",
    "    reader = csv.reader(file_read)\n",
    "    data_list = list(reader)\n",
    "\n",
    "print(\"Terminado!\")"
   ]
  },
  {
   "cell_type": "code",
   "execution_count": 158,
   "metadata": {},
   "outputs": [
    {
     "name": "stdout",
     "output_type": "stream",
     "text": [
      "Número de linhas:\n",
      "1551506\n"
     ]
    }
   ],
   "source": [
    "print(\"Número de linhas:\")\n",
    "print(len(data_list))"
   ]
  },
  {
   "cell_type": "code",
   "execution_count": 159,
   "metadata": {},
   "outputs": [
    {
     "name": "stdout",
     "output_type": "stream",
     "text": [
      "Linha 0: \n",
      "['Start Time', 'End Time', 'Trip Duration', 'Start Station', 'End Station', 'User Type', 'Gender', 'Birth Year']\n"
     ]
    }
   ],
   "source": [
    "# Imprimindo a primeira linha de data_list para verificar se funcionou.\n",
    "print(\"Linha 0: \")\n",
    "print(data_list[0])"
   ]
  },
  {
   "cell_type": "code",
   "execution_count": 160,
   "metadata": {},
   "outputs": [
    {
     "name": "stdout",
     "output_type": "stream",
     "text": [
      "Linha 1: \n",
      "['2017-01-01 00:00:36', '2017-01-01 00:06:32', '356', 'Canal St & Taylor St', 'Canal St & Monroe St (*)', 'Customer', '', '']\n"
     ]
    }
   ],
   "source": [
    "# Imprimindo a segunda linha de data_list, ela deveria conter alguns dados\n",
    "print(\"Linha 1: \")\n",
    "print(data_list[1])"
   ]
  },
  {
   "cell_type": "markdown",
   "metadata": {},
   "source": [
    "**Tarefa 1:** *Imprima as primeiras 20 linhas usando um loop para identificar os dados.*"
   ]
  },
  {
   "cell_type": "code",
   "execution_count": 161,
   "metadata": {},
   "outputs": [
    {
     "name": "stdout",
     "output_type": "stream",
     "text": [
      "(0, ['2017-01-01 00:00:36', '2017-01-01 00:06:32', '356', 'Canal St & Taylor St', 'Canal St & Monroe St (*)', 'Customer', '', ''])\n",
      "(1, ['2017-01-01 00:02:54', '2017-01-01 00:08:21', '327', 'Larrabee St & Menomonee St', 'Sheffield Ave & Kingsbury St', 'Subscriber', 'Male', '1984.0'])\n",
      "(2, ['2017-01-01 00:06:06', '2017-01-01 00:18:31', '745', 'Orleans St & Chestnut St (NEXT Apts)', 'Ashland Ave & Blackhawk St', 'Subscriber', 'Male', '1985.0'])\n",
      "(3, ['2017-01-01 00:07:28', '2017-01-01 00:12:51', '323', 'Franklin St & Monroe St', 'Clinton St & Tilden St', 'Subscriber', 'Male', '1990.0'])\n",
      "(4, ['2017-01-01 00:07:57', '2017-01-01 00:20:53', '776', 'Broadway & Barry Ave', 'Sedgwick St & North Ave', 'Subscriber', 'Male', '1990.0'])\n",
      "(5, ['2017-01-01 00:10:44', '2017-01-01 00:21:27', '643', 'State St & Kinzie St', 'Wells St & Polk St', 'Subscriber', 'Male', '1970.0'])\n",
      "(6, ['2017-01-01 00:11:34', '2017-01-01 00:23:47', '733', 'Wabash Ave & Wacker Pl', 'Clinton St & Tilden St', 'Subscriber', 'Male', '1986.0'])\n",
      "(7, ['2017-01-01 00:14:57', '2017-01-01 00:26:22', '685', 'Daley Center Plaza', 'Canal St & Monroe St (*)', 'Customer', '', ''])\n",
      "(8, ['2017-01-01 00:15:03', '2017-01-01 00:26:28', '685', 'Daley Center Plaza', 'Canal St & Monroe St (*)', 'Customer', '', ''])\n",
      "(9, ['2017-01-01 00:17:01', '2017-01-01 00:29:49', '768', 'Dayton St & North Ave', 'Ogden Ave & Chicago Ave', 'Customer', '', ''])\n",
      "(10, ['2017-01-01 00:17:13', '2017-01-01 11:03:34', '38781', 'Wilton Ave & Diversey Pkwy', 'Halsted St & Wrightwood Ave', 'Subscriber', 'Female', '1988.0'])\n",
      "(11, ['2017-01-01 00:18:28', '2017-01-01 00:31:05', '757', 'Canal St & Madison St', 'LaSalle St & Illinois St', 'Customer', '', ''])\n",
      "(12, ['2017-01-01 00:18:50', '2017-01-01 00:21:47', '177', 'Theater on the Lake', 'Lakeview Ave & Fullerton Pkwy', 'Subscriber', 'Male', '1991.0'])\n",
      "(13, ['2017-01-01 00:23:41', '2017-01-01 00:29:13', '332', 'Halsted St & Maxwell St', 'Halsted St & 18th St', 'Subscriber', 'Male', '1984.0'])\n",
      "(14, ['2017-01-01 00:25:47', '2017-01-01 00:39:53', '846', 'Ravenswood Ave & Lawrence Ave', 'Clarendon Ave & Gordon Ter', 'Subscriber', 'Female', '1987.0'])\n",
      "(15, ['2017-01-01 00:25:47', '2017-01-01 00:43:23', '1056', 'Clark St & Congress Pkwy', 'Wolcott Ave & Polk St', 'Subscriber', 'Male', '1984.0'])\n",
      "(16, ['2017-01-01 00:26:21', '2017-01-01 00:39:40', '799', 'Ravenswood Ave & Lawrence Ave', 'Clarendon Ave & Gordon Ter', 'Subscriber', 'Male', '1987.0'])\n",
      "(17, ['2017-01-01 00:27:21', '2017-01-01 00:42:59', '938', 'Millennium Park', 'Michigan Ave & 18th St', 'Subscriber', 'Male', '1991.0'])\n",
      "(18, ['2017-01-01 00:27:28', '2017-01-01 00:42:44', '916', 'Millennium Park', 'Michigan Ave & 18th St', 'Subscriber', 'Female', '1990.0'])\n",
      "(19, ['2017-01-01 00:27:45', '2017-01-01 00:31:13', '208', 'Damen Ave & Chicago Ave', 'Damen Ave & Division St', 'Subscriber', 'Male', '1982.0'])\n"
     ]
    }
   ],
   "source": [
    "for amostra in enumerate(data_list[1:21]): \n",
    "    print(amostra)"
   ]
  },
  {
   "cell_type": "code",
   "execution_count": 162,
   "metadata": {},
   "outputs": [],
   "source": [
    "# Remover cabeçalho de data_list\n",
    "data_list = data_list[1:]"
   ]
  },
  {
   "cell_type": "markdown",
   "metadata": {},
   "source": [
    "**Tarefa 2:** *Imprima o \"gênero\" das primeiras 20 linhas*"
   ]
  },
  {
   "cell_type": "code",
   "execution_count": 163,
   "metadata": {},
   "outputs": [
    {
     "name": "stdout",
     "output_type": "stream",
     "text": [
      "Line : {i}\tGender: {line[-2]}\n",
      "Line : {i}\tGender: {line[-2]}\n",
      "Line : {i}\tGender: {line[-2]}\n",
      "Line : {i}\tGender: {line[-2]}\n",
      "Line : {i}\tGender: {line[-2]}\n",
      "Line : {i}\tGender: {line[-2]}\n",
      "Line : {i}\tGender: {line[-2]}\n",
      "Line : {i}\tGender: {line[-2]}\n",
      "Line : {i}\tGender: {line[-2]}\n",
      "Line : {i}\tGender: {line[-2]}\n",
      "Line : {i}\tGender: {line[-2]}\n",
      "Line : {i}\tGender: {line[-2]}\n",
      "Line : {i}\tGender: {line[-2]}\n",
      "Line : {i}\tGender: {line[-2]}\n",
      "Line : {i}\tGender: {line[-2]}\n",
      "Line : {i}\tGender: {line[-2]}\n",
      "Line : {i}\tGender: {line[-2]}\n",
      "Line : {i}\tGender: {line[-2]}\n",
      "Line : {i}\tGender: {line[-2]}\n",
      "Line : {i}\tGender: {line[-2]}\n"
     ]
    }
   ],
   "source": [
    "for i, line in enumerate(data_list[:20],start=1):\n",
    "    print(\"Line : {i}\\tGender: {line[-2]}\")"
   ]
  },
  {
   "cell_type": "markdown",
   "metadata": {},
   "source": [
    "**Tarefa 3:** *Crie uma função para adicionar as colunas(features) de uma lista em outra lista, na mesma ordem*"
   ]
  },
  {
   "cell_type": "code",
   "execution_count": 164,
   "metadata": {},
   "outputs": [],
   "source": [
    "def column_to_list(data, index):\n",
    "    column_list = []\n",
    "    \n",
    "    # print(\"(debug) data:\", data, \"index:\", index)\n",
    "    for feature in data:\n",
    "        column_list.append(feature[index])\n",
    "     \n",
    "    return column_list"
   ]
  },
  {
   "cell_type": "code",
   "execution_count": 165,
   "metadata": {},
   "outputs": [
    {
     "name": "stdout",
     "output_type": "stream",
     "text": [
      "['', 'Male', 'Male', 'Male', 'Male', 'Male', 'Male', '', '', '', 'Female', '', 'Male', 'Male', 'Female', 'Male', 'Male', 'Male', 'Female', 'Male']\n"
     ]
    }
   ],
   "source": [
    "# Apenas para os primeiros 20\n",
    "print(column_to_list(data_list, -2)[:20])"
   ]
  },
  {
   "cell_type": "markdown",
   "metadata": {},
   "source": [
    "\n",
    "**Tarefa 4:** *Conte cada gênero. Você não deveria usar uma função para isso.*"
   ]
  },
  {
   "cell_type": "code",
   "execution_count": 166,
   "metadata": {},
   "outputs": [
    {
     "name": "stdout",
     "output_type": "stream",
     "text": [
      "Masculinos:  935854 \n",
      "Femininos:  298784\n"
     ]
    }
   ],
   "source": [
    "male = 0\n",
    "female = 0 \n",
    "gender_column = 6\n",
    "\n",
    "for line in data_list:\n",
    "    \n",
    "    # print(\"(debug)\", i[gender_column])\n",
    "    \n",
    "    if line[gender_column].lower() == 'male':\n",
    "        male += 1\n",
    "    elif line[gender_column].lower() == 'female':\n",
    "        female += 1\n",
    "    \n",
    "print(\"Masculinos: \", male, \"\\nFemininos: \", female)"
   ]
  },
  {
   "cell_type": "markdown",
   "metadata": {},
   "source": [
    "**Tarefa 5:** *Crie uma função para contar os gêneros. Retorne uma lista.*"
   ]
  },
  {
   "cell_type": "code",
   "execution_count": 167,
   "metadata": {},
   "outputs": [],
   "source": [
    "def count_gender(data_list):\n",
    "    \"\"\"\n",
    "    Função de para contar ocorrências de determinado gênero.\n",
    "    Argumentos:\n",
    "        data_list: Lista de dados.\n",
    "    Retorna:\n",
    "        Lista de com os valores acumulados para cada gênero.\n",
    "\n",
    "    \"\"\"\n",
    "    male = 0\n",
    "    female = 0\n",
    "    gender_column = 6\n",
    "\n",
    "    for line in data_list:\n",
    "        if line[gender_column].lower() == 'male':\n",
    "            male += 1\n",
    "        elif line[gender_column].lower() == 'female':\n",
    "            female += 1\n",
    "\n",
    "    return [male, female]"
   ]
  },
  {
   "cell_type": "code",
   "execution_count": 168,
   "metadata": {},
   "outputs": [
    {
     "name": "stdout",
     "output_type": "stream",
     "text": [
      "[935854, 298784]\n"
     ]
    }
   ],
   "source": [
    "print(count_gender(data_list))"
   ]
  },
  {
   "cell_type": "markdown",
   "metadata": {},
   "source": [
    "**Tarefa 6:** *Crie uma função que pegue o gênero mais popular, e retorne este gênero como uma string.*"
   ]
  },
  {
   "cell_type": "code",
   "execution_count": 169,
   "metadata": {},
   "outputs": [],
   "source": [
    "def most_popular_gender(data_list):\n",
    "    \"\"\"\n",
    "    Função para determinar o gênero mais popular.\n",
    "    Argumentos:\n",
    "        data_list: Lista de dados.\n",
    "    Retorna:\n",
    "        String com o gênero mais popular (male/female/equal).\n",
    "\n",
    "    \"\"\"\n",
    "    answer = \"\"\n",
    "\n",
    "    genders = count_gender(data_list)\n",
    "\n",
    "    # print(\"(debug) genders[0]:\", genders[0], \"genders[1]:\", genders[1])\n",
    "\n",
    "    if genders[0] > genders[1]:\n",
    "        answer = \"Male\"\n",
    "    elif genders[0] <  genders[1]:\n",
    "        answer = \"Female\"\n",
    "    else:\n",
    "        answer = \"Equal\"\n",
    "           \n",
    "    return answer"
   ]
  },
  {
   "cell_type": "code",
   "execution_count": 170,
   "metadata": {},
   "outputs": [
    {
     "name": "stdout",
     "output_type": "stream",
     "text": [
      "O gênero mais popular na lista é:  Male\n"
     ]
    }
   ],
   "source": [
    "print(\"O gênero mais popular na lista é: \", most_popular_gender(data_list))"
   ]
  },
  {
   "cell_type": "code",
   "execution_count": 171,
   "metadata": {},
   "outputs": [
    {
     "data": {
      "image/png": "[encoded data removed]",
      "text/plain": [
       "<Figure size 432x288 with 1 Axes>"
      ]
     },
     "metadata": {
      "needs_background": "light"
     },
     "output_type": "display_data"
    }
   ],
   "source": [
    "# Verifique este gráfico!\n",
    "\n",
    "gender_list = column_to_list(data_list, -2)\n",
    "types = [\"Male\", \"Female\"]\n",
    "quantity = count_gender(data_list)\n",
    "y_pos = list(range(len(types)))\n",
    "plt.bar(y_pos, quantity)\n",
    "plt.ylabel('Quantidade')\n",
    "plt.xlabel('Gênero')\n",
    "plt.xticks(y_pos, types)\n",
    "plt.title('Quantidade por Gênero')\n",
    "plt.show(block=True)"
   ]
  },
  {
   "cell_type": "markdown",
   "metadata": {},
   "source": [
    "**Tarefa 7:** *Crie um gráfico similar para user_types. Tenha certeza que a legenda está correta.*"
   ]
  },
  {
   "cell_type": "code",
   "execution_count": 172,
   "metadata": {},
   "outputs": [],
   "source": [
    "def count_user_types(data_list):\n",
    "    \"\"\"\n",
    "    Função de para contar ocorrências de determinado tipo de usuario.\n",
    "    Argumentos:\n",
    "        data_list: Lista de dados.\n",
    "    Retorna:\n",
    "        Lista de com os valores acumulados para cada tipo de usuário.\n",
    "\n",
    "    \"\"\"\n",
    "    customer = 0\n",
    "    dependent = 0\n",
    "    subscriber = 0\n",
    "    user_type_column = 5\n",
    "\n",
    "    for line in data_list:\n",
    "        if line[user_type_column].lower() == 'customer':\n",
    "            customer += 1\n",
    "        elif line[user_type_column].lower() == 'dependent':\n",
    "            dependent += 1\n",
    "        elif line[user_type_column].lower() == 'subscriber':\n",
    "            subscriber += 1\n",
    "\n",
    "    return [customer, dependent, subscriber]"
   ]
  },
  {
   "cell_type": "code",
   "execution_count": 173,
   "metadata": {},
   "outputs": [
    {
     "data": {
      "image/png": "[encoded data removed]",
      "text/plain": [
       "<Figure size 432x288 with 1 Axes>"
      ]
     },
     "metadata": {
      "needs_background": "light"
     },
     "output_type": "display_data"
    }
   ],
   "source": [
    "user_list = column_to_list(data_list, 5)\n",
    "types = [\"Customer\", \"Dependent\", \"Subscriber\"]\n",
    "quantity = count_user_types(data_list)\n",
    "\n",
    "# print(\"(debug) count_user_types:\", quantity)\n",
    "\n",
    "y_pos = list(range(len(types)))\n",
    "plt.bar(y_pos, quantity)\n",
    "plt.ylabel('Quantidade')\n",
    "plt.xlabel('Tipo de usuário')\n",
    "plt.xticks(y_pos, types)\n",
    "plt.title('Quantidade por Tipo de Usuário')\n",
    "plt.show(block=True)"
   ]
  },
  {
   "cell_type": "markdown",
   "metadata": {},
   "source": [
    "**Tarefa 8:** *Por que a condição a seguir é Falsa?*"
   ]
  },
  {
   "cell_type": "code",
   "execution_count": 174,
   "metadata": {},
   "outputs": [
    {
     "name": "stdout",
     "output_type": "stream",
     "text": [
      "Por que a condição a seguir é Falsa?\n",
      "male + female == len(data_list): False\n"
     ]
    }
   ],
   "source": [
    "male, female = count_gender(data_list)\n",
    "print(\"Por que a condição a seguir é Falsa?\")\n",
    "print(\"male + female == len(data_list):\", male + female == len(data_list))"
   ]
  },
  {
   "cell_type": "code",
   "execution_count": 175,
   "metadata": {},
   "outputs": [
    {
     "name": "stdout",
     "output_type": "stream",
     "text": [
      "resposta: Para analisar a pergunta eu utilizei o total da lista (1551505), total de male's (935854) e o total de female's (298784). Fiz a diferença do valor total da lista para soma de male's e female's. Esse valor equivale aos dados que não foram identificados nem como male e nem como female. Ao analisar novamente, reescrevi a função que faz a contagem e criei uma condição para que acumulasse também o valor dos dados que não foram identificados como male e female. Obtive 316867 que é exatamente o valor da diferença da lista para soma de male's e female's. Portanto, não existe apenas male e female, existem também campos que não estão preenchidos com esses dois valores e por esse motivo, a condição é falsa.\n"
     ]
    }
   ],
   "source": [
    "# print(\"(debug) len(data_list):\", len(data_list))\n",
    "# print(\"(debug) male:\", male, \"and female:\", female)\n",
    "# print(\"(debug) len(data_list) - (male + female):\", len(data_list) - (male + female))\n",
    "\n",
    "def count_gender_with_blanks(data_list):\n",
    "    \"\"\"\n",
    "    Função de para contar ocorrências de gênero (male/female) e desconhecido.\n",
    "    Argumentos:\n",
    "        data_list: Lista de dados.\n",
    "    Retorna:\n",
    "        Lista de com os valores acumulados para gênero (male/female) e desconhecido.\n",
    "\n",
    "    \"\"\"\n",
    "    male = 0\n",
    "    female = 0\n",
    "    blanks = 0\n",
    "    gender_column = 6\n",
    "\n",
    "    for line in data_list:\n",
    "        if line[gender_column].lower() == 'male':\n",
    "            male += 1\n",
    "        elif line[gender_column].lower() == 'female':\n",
    "            female += 1\n",
    "        else:\n",
    "            blanks += 1\n",
    "\n",
    "    return [male, female, blanks]\n",
    "\n",
    "# print(\"(debug) count_gender_with_blanks:\", count_gender_with_blanks(data_list))\n",
    "\n",
    "answer = \"Para analisar a pergunta eu utilizei o total da lista (1551505), total de male's (935854) e o total de female's (298784). Fiz a diferença do valor total da lista para soma de male's e female's. Esse valor equivale aos dados que não foram identificados nem como male e nem como female. Ao analisar novamente, reescrevi a função que faz a contagem e criei uma condição para que acumulasse também o valor dos dados que não foram identificados como male e female. Obtive 316867 que é exatamente o valor da diferença da lista para soma de male's e female's. Portanto, não existe apenas male e female, existem também campos que não estão preenchidos com esses dois valores e por esse motivo, a condição é falsa.\"\n",
    "\n",
    "print(\"resposta:\", answer)"
   ]
  },
  {
   "cell_type": "markdown",
   "metadata": {},
   "source": [
    "**Tarefa 9:** *Ache a duração de viagem Mínima, Máxima, Média, e Mediana. Você não deve usar funções prontas para isso, como max() e min().*"
   ]
  },
  {
   "cell_type": "code",
   "execution_count": 176,
   "metadata": {},
   "outputs": [],
   "source": [
    "min_trip = 0.\n",
    "max_trip = 0.\n",
    "mean_trip = 0.\n",
    "median_trip = 0.\n",
    "trip_duration_list = column_to_list(data_list, 2)\n",
    "\n",
    "def min_trip_list(trip_duration_list):\n",
    "    \"\"\"\n",
    "    Função de para calcular duração de viagem mínima.\n",
    "    Argumentos:\n",
    "        trip_duration_list: Lista de dados da duração da viagem.\n",
    "    Retorna:\n",
    "        Float que representa valor mínimo calculado.\n",
    "\n",
    "    \"\"\"\n",
    "    min_trip_duration_list = float(trip_duration_list[0])\n",
    "\n",
    "    # print(\"(debug) min_trip_duration_list:\", min_trip_duration_list)\n",
    "\n",
    "    for line in trip_duration_list:\n",
    "        if float(line) < min_trip_duration_list:\n",
    "            min_trip_duration_list = float(line)\n",
    "    return min_trip_duration_list\n",
    "\n",
    "\n",
    "def max_trip_list(trip_duration_list):\n",
    "    \"\"\"\n",
    "    Função de para calcular duração de viagem máxima.\n",
    "    Argumentos:\n",
    "        trip_duration_list: Lista de dados da duração da viagem.\n",
    "    Retorna:\n",
    "        Float que representa valor máximo calculado.\n",
    "\n",
    "    \"\"\"\n",
    "    max_trip_duration_list = float(trip_duration_list[0])\n",
    "\n",
    "    # print(\"(debug) max_trip_duration_list:\", max_trip_duration_list)\n",
    "\n",
    "    for line in trip_duration_list:\n",
    "        if float(line) > max_trip_duration_list:\n",
    "            max_trip_duration_list = float(line)\n",
    "    return max_trip_duration_list\n",
    "\n",
    "\n",
    "def mean_trip_list(trip_duration_list):\n",
    "    \"\"\"\n",
    "    Função de para calcular duração média de viagem.\n",
    "    Argumentos:\n",
    "        trip_duration_list: Lista de dados da duração da viagem.\n",
    "    Retorna:\n",
    "        Float que representa valor médio calculado.\n",
    "\n",
    "    \"\"\"\n",
    "    total_trip_duration_list = 0.\n",
    "\n",
    "    for line in trip_duration_list:\n",
    "        total_trip_duration_list += float(line)\n",
    "\n",
    "    return total_trip_duration_list / len(trip_duration_list)\n",
    "\n",
    "\n",
    "def median_trip_list(trip_duration_list):\n",
    "    \"\"\"\n",
    "    Função de para calcular a mediana da duração de viagem.\n",
    "    Argumentos:\n",
    "        trip_duration_list: Lista de dados da duração da viagem.\n",
    "    Retorna:\n",
    "        Float que representa valor da mediana calculado.\n",
    "\n",
    "    \"\"\"\n",
    "    trip_duration_list = sorted(float(line) for line in trip_duration_list)\n",
    "\n",
    "    median_trip_duration_list = 0.\n",
    "    middle = len(trip_duration_list) // 2\n",
    "\n",
    "    # print(\"(debug) len(trip_duration_list):\", len(trip_duration_list))\n",
    "    # print(\"(debug) middle:\", middle)\n",
    "\n",
    "    if len(trip_duration_list) % 2 == 0:\n",
    "\n",
    "        median_trip_duration_list = (float(trip_duration_list[middle]) + float(trip_duration_list[middle + 1])) / 2.0\n",
    "\n",
    "    else:\n",
    "        median_trip_duration_list = float(trip_duration_list[middle + 1])\n",
    "\n",
    "    return median_trip_duration_list"
   ]
  },
  {
   "cell_type": "code",
   "execution_count": 177,
   "metadata": {},
   "outputs": [
    {
     "name": "stdout",
     "output_type": "stream",
     "text": [
      "Min:  60.0 Max:  86338.0 Mean:  939.7777590146342 Mediana:  670.0\n"
     ]
    }
   ],
   "source": [
    "min_trip = min_trip_list(trip_duration_list)\n",
    "max_trip = max_trip_list(trip_duration_list)\n",
    "mean_trip = mean_trip_list(trip_duration_list)\n",
    "median_trip = median_trip_list(trip_duration_list)\n",
    "\n",
    "print(\"Min: \", min_trip, \"Max: \", max_trip, \"Mean: \", mean_trip, \"Mediana: \", median_trip)"
   ]
  },
  {
   "cell_type": "markdown",
   "metadata": {},
   "source": [
    "**Tarefa 10:** *Verifique quantos tipos de start_stations nós temos, usando set()*"
   ]
  },
  {
   "cell_type": "code",
   "execution_count": 178,
   "metadata": {},
   "outputs": [
    {
     "name": "stdout",
     "output_type": "stream",
     "text": [
      "582\n",
      "{'Elmwood Ave & Austin St', 'Greenview Ave & Jarvis Ave', 'Ritchie Ct & Banks St', 'Phillips Ave & 79th St', 'Damen Ave & Charleston St', 'State St & 35th St', 'Kosciuszko Park', 'Ogden Ave & Congress Pkwy', 'Wells St & 19th St', 'Milwaukee Ave & Cuyler Ave', 'Lake Shore Dr & Belmont Ave', 'Kedzie Ave & Foster Ave', 'Southport Ave & Clark St', 'Sacramento Blvd & Franklin Blvd', 'Evans Ave & 75th St', 'Paulina Ave & North Ave', 'Wells St & Walton St', 'Racine Ave & 35th St', 'Prairie Ave & 43rd St', 'Ashland Ave & Lake St', 'Western Ave & Winnebago Ave', 'Clark St & Wrightwood Ave', 'Halsted St & 37th St', 'DuSable Museum', 'Stockton Dr & Wrightwood Ave', 'May St & Cullerton St', 'Orleans St & Elm St (*)', 'Pine Grove Ave & Irving Park Rd', 'Glenwood Ave & Touhy Ave', 'Sheffield Ave & Fullerton Ave', 'Clinton St & Washington Blvd', 'Lake Park Ave & 35th St', 'Dearborn St & Erie St', 'Broadway & Barry Ave', 'Ashland Ave & Archer Ave', 'Damen Ave & Madison St', 'Field Blvd & South Water St', 'St. Clair St & Erie St', 'Central Park Ave & Elbridge Ave', 'Federal St & Polk St', 'Budlong Woods Library', 'Eberhart Ave & 61st St', 'Loomis St & Taylor St (*)', 'Manor Ave & Leland Ave', 'Wood St & Division St', 'Lake Shore Dr & Monroe St', 'California Ave & Montrose Ave', 'Cottage Grove Ave & 83rd St', 'Canal St & Adams St', 'Knox Ave & Montrose Ave', 'State St & 33rd St', 'Clark St & Schiller St', 'Clark St & Schreiber Ave', 'Rush St & Superior St', 'Western Ave & Leland Ave', 'Ashland Ave & 21st St', 'Kedzie Ave & Harrison St', 'Pulaski Rd & Lake St', 'Broadway & Wilson Ave', 'Rush St & Hubbard St', 'Leavitt St & Lawrence Ave', 'Ogden Ave & Race Ave', 'Eastlake Ter & Rogers Ave', 'California Ave & Fletcher St', 'Damen Ave & Pierce Ave', 'Humboldt Blvd & Armitage Ave', 'Wentworth Ave & 35th St', 'Clifton Ave & Armitage Ave', 'Clarendon Ave & Junior Ter', 'Perry Ave & 69th St', 'Damen Ave & Sunnyside Ave', 'Lincoln Ave & Addison St', 'Yates Blvd & 75th St', 'Sheridan Rd & Loyola Ave', 'Vernon Ave & 79th St', 'Avondale Ave & Irving Park Rd', 'Wabash Ave & Grand Ave', 'Halsted St & Dickens Ave', 'Dusable Harbor', 'Ashland Ave & Garfield Blvd', 'Cottage Grove Ave & 63rd St', 'Orleans St & Merchandise Mart Plaza', 'Broadway & Belmont Ave', 'Clark St & Elm St', 'Buckingham Fountain', 'Financial Pl & Congress Pkwy', 'Washtenaw Ave & 15th St (*)', 'Michigan Ave & Madison St', 'Damen Ave & Coulter St', 'Stony Island Ave & 64th St', 'Bennett Ave & 79th St', 'Southport Ave & Irving Park Rd', 'Wood St & Taylor St', 'Ogden Ave & Chicago Ave', 'Western Ave & Lunt Ave', 'Racine Ave & Congress Pkwy', 'Ashland Ave & McDowell Ave', 'Racine Ave & 61st St', 'Western Ave & 24th St', 'Clark St & Lincoln Ave', 'Clark St & Armitage Ave', 'Sheridan Rd & Buena Ave', 'Clark St & Leland Ave', 'MLK Jr Dr & 29th St', 'Aberdeen St & Monroe St', 'Racine Ave & Fullerton Ave', 'Marshfield Ave & Cortland St', 'Franklin St & Quincy St', 'Lincoln Ave & Winona St', 'Desplaines St & Jackson Blvd', 'Larrabee St & Oak St', 'Cottage Grove Ave & 43rd St', 'Michigan Ave & 8th St', 'Normal Ave & 72nd St', 'Halsted St & Diversey Pkwy', 'Lincoln Ave & Diversey Pkwy', 'Jeffery Blvd & 67th St', 'Wabash Ave & 87th St', 'Greenview Ave & Diversey Pkwy', 'Larrabee St & North Ave', 'Wood St & 35th St', 'Kimbark Ave & 53rd St', 'Michigan Ave & Congress Pkwy', 'Broadway & Berwyn Ave', 'Ashland Ave & 69th St', 'Lake Park Ave & 53rd St', 'Marion St & South Blvd', 'Franklin St & Monroe St', 'Damen Ave & Cortland St', 'Southport Ave & Wellington Ave', 'Loomis St & Jackson Blvd', 'Wells St & Elm St', 'State St & Harrison St', 'Emerald Ave & 28th St', 'Clark St & Grace St', 'Ellis Ave & 53rd St', 'Austin Blvd & Chicago Ave', 'State St & Pershing Rd', 'Clinton St & Jackson Blvd', 'Wabash Ave & 8th St', 'Shields Ave & 31st St', 'Lake Shore Dr & Ohio St', 'Damen Ave & Division St', 'California Ave & Altgeld St', 'Orleans St & Chestnut St (NEXT Apts)', 'Albany Ave & Bloomingdale Ave', 'Cicero Ave & Flournoy St', 'Mason Ave & Madison St', 'Ashland Ave & 63rd St', 'Lake Park Ave & 47th St', 'McCormick Place', 'Kimball Ave & Belmont Ave', 'Halsted St & 56th St', 'Sedgwick St & Huron St', 'California Ave & Cortez St', 'Clinton St & Tilden St', 'Halsted St & 35th St (*)', 'Noble St & Milwaukee Ave', 'Wells St & Evergreen Ave', 'Sangamon St & Washington Blvd (*)', 'Prairie Ave & Garfield Blvd', 'Wabash Ave & Roosevelt Rd', 'Milwaukee Ave & Grand Ave', 'Shields Ave & 43rd St', 'Loomis St & Lexington St', 'Ada St & Washington Blvd', 'California Ave & 23rd Pl', 'Sheffield Ave & Waveland Ave', 'Michigan Ave & Jackson Blvd', 'Lincoln Ave & Waveland Ave', 'Sedgwick St & Schiller St', 'Kedzie Ave & Lake St', 'Wentworth Ave & 33rd St', 'Kedzie Ave & Palmer Ct', 'Ellis Ave & 60th St', 'Wells St & Concord Ln', 'Racine Ave & Garfield Blvd', 'Hampden Ct & Diversey Pkwy', 'Ashland Ave & Grace St', 'Western Ave & Granville Ave', 'Normal Ave & Archer Ave', 'Halsted St & 59th St', 'Exchange Ave & 79th St', 'Indiana Ave & Roosevelt Rd', 'Larrabee St & Division St', 'Shields Ave & 28th Pl', 'Stony Island Ave & 71st St', 'St. Louis Ave & Balmoral Ave', 'Morgan Ave & 14th Pl', 'Clinton St & Madison St', 'Morgan St & Polk St', 'Millard Ave & 26th St', 'South Shore Dr & 74th St', 'Chicago Ave & Sheridan Rd', 'Keystone Ave & Fullerton Ave', 'Racine Ave & 15th St', 'Artesian Ave & Hubbard St', 'Southport Ave & Belmont Ave', 'Cottage Grove Ave & 47th St', 'Richmond St & Diversey Ave', 'Cottage Grove Ave & Oakwood Blvd', 'Central Ave & Chicago Ave', 'Clark St & North Ave', 'Hermitage Ave & Polk St', 'Green St & Randolph St', 'Ridge Blvd & Touhy Ave', 'Greenwood Ave & 47th St', 'Ashland Ave & Pershing Rd', 'Throop St & 52nd St', 'Leavitt St & North Ave', 'Calumet Ave & 51st St', 'Pulaski Rd & Madison St', 'Orleans St & Ohio St', 'Broadway & Sheridan Rd', 'Cornell Ave & Hyde Park Blvd', 'Clybourn Ave & Division St', 'Central Park Ave & North Ave', 'Forest Ave & Lake St', 'Benson Ave & Church St', 'Union Ave & Root St', 'Cuyler Ave & Augusta St', 'Cottage Grove Ave & 67th St', 'East Ave & Madison St', 'McClurg Ct & Erie St', 'Stave St & Armitage Ave', 'Michigan Ave & Lake St', 'Lake Shore Dr & Wellington Ave', 'Seeley Ave & Roscoe St', 'Stony Island Ave & 82nd St', 'Halsted St & North Branch St', 'Clarendon Ave & Leland Ave', 'Fort Dearborn Dr & 31st St', 'Clark St & Columbia Ave', 'Ellis Ave & 83rd St', 'Elston Ave & Wabansia Ave', 'Franklin St & Jackson Blvd', 'Wallace St & 35th St', 'Michigan Ave & Pearson St', 'Racine Ave & Wrightwood Ave', 'Clifton Ave & Lawrence Ave', 'Logan Blvd & Elston Ave', 'Ashland Ave & 13th St', 'Campbell Ave & Fullerton Ave', 'Franklin St & Lake St', 'California Ave & Lake St', 'Ogden Ave & Roosevelt Rd', 'Kedzie Ave & Roosevelt Rd', 'Cicero Ave & Quincy St', 'LaSalle St & Illinois St', 'Racine Ave & 65th St', 'Racine Ave & 13th St', 'Halsted St & Roosevelt Rd', 'Sheridan Rd & Greenleaf Ave', 'Adler Planetarium', 'Morgan St & Pershing Rd', 'Stony Island Ave & South Chicago Ave', 'Maplewood Ave & Peterson Ave', 'Seeley Ave & Garfield Blvd', 'Bissell St & Armitage Ave', 'California Ave & Francis Pl', 'Talman Ave & Addison St', 'Damen Ave & Wellington Ave', 'State St & Van Buren St', 'Central Park Ave & Ogden Ave', 'Canal St & Taylor St', 'Michigan Ave & Oak St', 'State St & 76th St', 'Dearborn St & Monroe St', 'Morgan St & 31st St', 'Princeton Ave & 47th St', 'Ashland Ave & Grand Ave', 'Cottage Grove Ave & 51st St', 'Wabash Ave & Cermak Rd', 'Pulaski Rd & Eddy St', 'Shedd Aquarium', 'Racine Ave & Belmont Ave', 'Shore Dr & 55th St', 'Damen Ave & Pershing Rd', 'Halsted St & Blackhawk St (*)', 'Lakeview Ave & Fullerton Pkwy', 'Troy St & North Ave', 'Racine Ave & 18th St', 'Dorchester Ave & 49th St', 'Ashland Ave & Harrison St', 'Lake Park Ave & 56th St', 'Clark St & Winnemac Ave', 'Kedzie Ave & Milwaukee Ave', 'Indiana Ave & 40th St', 'Lake Shore Dr & Diversey Pkwy', 'Desplaines St & Kinzie St', 'Albany (Kedzie) Ave & Montrose Ave', 'Western Ave & 21st St', 'Sheridan Rd & Noyes St (NU)', 'Damen Ave & Augusta Blvd', 'Western Ave & Congress Pkwy', 'Glenwood Ave & Morse Ave', 'MLK Jr Dr & 47th St', 'Damen Ave & 59th St', 'Ashland Ave & Blackhawk St', 'Paulina St & Howard St', 'Peoria St & Jackson Blvd', 'Washtenaw Ave & Lawrence Ave', 'Carpenter St & Huron St', 'Michigan Ave & Washington St', 'Claremont Ave & Hirsch St', 'MLK Jr Dr & 83rd St', 'Daley Center Plaza', 'Montrose Harbor', 'Ashland Ave & 66th St', 'Humphrey Ave & Ontario St', 'Western Ave & Division St', 'Larrabee St & Kingsbury St', 'Cityfront Plaza Dr & Pioneer Ct', 'Central Ave & Lake St', 'Halsted St & 69th St', 'University Library (NU)', 'Vernon Ave & 75th St', 'Greenview Ave & Fullerton Ave', 'Commercial Ave & 83rd St', 'Halsted St & 51st St', 'Fairbanks Ct & Grand Ave', 'Clark St & Lunt Ave', 'Drake Ave & Fullerton Ave', 'Marine Dr & Ainslie St', 'Harper Ave & 59th St', 'Francisco Ave & Foster Ave', 'Warren Park West', 'May St & Taylor St', 'Woodlawn Ave & 75th St', 'Halsted St & Archer Ave', 'Kedzie Ave & Bryn Mawr Ave', 'Pulaski Rd & Congress Pkwy', 'Ashland Ave & Augusta Blvd', 'Broadway & Ridge Ave', 'Winchester Ave & Elston Ave', 'Sedgwick St & Webster Ave', 'MLK Jr Dr & 56th St (*)', 'Leavitt St & Archer Ave', 'Sheffield Ave & Wrightwood Ave', 'Clark St & Chicago Ave', 'Paulina St & 18th St', 'Oakley Ave & Touhy Ave', 'Lake Shore Dr & North Blvd', 'Damen Ave & Foster Ave', 'Columbus Dr & Randolph St', 'Field Museum', 'Southport Ave & Roscoe St', 'Clinton St & Roosevelt Rd', 'Mies van der Rohe Way & Chicago Ave', 'Saginaw Ave & Exchange Ave', 'State St & Randolph St', 'Sheridan Rd & Lawrence Ave', 'Western Ave & 28th St', 'Clark St & Bryn Mawr Ave', 'Kedzie Ave & Chicago Ave', 'Ashland Ave & Wrightwood Ave', 'Sedgwick St & North Ave', 'Dodge Ave & Church St', 'Kedzie Ave & Leland Ave', 'Clark St & Lake St', 'Wentworth Ave & Archer Ave', 'Western Ave & Howard St', 'Lombard Ave & Madison St', 'Drake Ave & Montrose Ave', 'California Ave & North Ave', 'Racine Ave & Randolph St', 'Central Ave & Madison St', 'Spaulding Ave & Division St', 'Canal St & Harrison St', 'Rush St & Cedar St', 'Troy St & Elston Ave', 'Austin Blvd & Lake St', 'Calumet Ave & 21st St', 'Sheridan Rd & Irving Park Rd', 'Indiana Ave & 26th St', 'Kedzie Ave & 24th St', 'Wentworth Ave & 24th St', 'Clinton St & Polk St (*)', 'Keystone Ave & Montrose Ave', 'Ashland Ave & Chicago Ave', 'Clinton St & 18th St', 'Jefferson St & Monroe St', 'Damen Ave & Leland Ave', 'Central St Metra', 'Dearborn St & Adams St', 'Blue Island Ave & 18th St', 'Woodlawn Ave & 55th St', 'Lawndale Ave & 23rd St', 'University Ave & 57th St', 'Theater on the Lake', 'Franklin St & Chicago Ave', 'Central Park Blvd & 5th Ave', 'Spaulding Ave & Armitage Ave', 'Laramie Ave & Madison St', 'Ravenswood Ave & Berteau Ave', 'Oakley Ave & Roscoe St', 'Cicero Ave & Lake St', 'Kingsbury St & Kinzie St', 'Wood St & Milwaukee Ave', 'Ellis Ave & 55th St', 'Ashland Ave & Wellington Ave', 'Michigan Ave & 18th St', 'Halsted St & Roscoe St', 'Damen Ave & Cullerton St', 'Green St & Madison St', 'Kedzie Ave & 21st St', 'Bosworth Ave & Howard St', 'Wolcott Ave & Fargo Ave', 'Marshfield Ave & 44th St', 'Stony Island Ave & 75th St', 'Damen Ave & Melrose Ave', 'Wisconsin Ave & Madison St', 'Halsted St & Wrightwood Ave', 'Lincoln Ave & Belmont Ave', 'Ashland Ave & Belle Plaine Ave', 'Wacker Dr & Washington St', 'Clark St & Elmdale Ave', '900 W Harrison St', 'State St & Kinzie St', 'Clark St & Randolph St', 'MLK Jr Dr & Oakwood Blvd', 'Ridge Blvd & Howard St', 'Kilbourn Ave & Milwaukee Ave', 'Oak Park Ave & South Blvd', 'Princeton Ave & Garfield Blvd', 'Dorchester Ave & 63rd St', 'Ravenswood Ave & Irving Park Rd', 'Woodlawn Ave & Lake Park Ave', 'Fairfield Ave & Roosevelt Rd', 'Kostner Ave & Adams St', 'LaSalle St & Washington St', 'State St & 19th St', 'Southport Ave & Clybourn Ave', 'Jeffery Blvd & 71st St', 'Forest Ave & Chicago Ave', 'Larrabee St & Webster Ave', 'Ravenswood Ave & Montrose Ave (*)', 'Kilbourn Ave & Irving Park Rd', 'Elizabeth St & 47th St', 'State St & 29th St', 'Clark St & Jarvis Ave', 'Calumet Ave & 35th St', 'State St & 79th St', 'Wells St & Huron St', 'California Ave & Division St', 'Wabash Ave & 16th St', 'California Ave & 26th St', 'Wilton Ave & Diversey Pkwy', 'Larrabee St & Armitage Ave', 'Clark St & Congress Pkwy', 'Milwaukee Ave & Rockwell St', 'Cottage Grove Ave & 71st St', 'Monticello Ave & Irving Park Rd', 'Calumet Ave & 33rd St', 'Ashland Ave & Division St', 'Indiana Ave & 31st St', 'Lombard Ave & Garfield St', 'Stetson Ave & South Water St', 'Oak Park Ave & Harrison St', 'Campbell Ave & North Ave', 'Greenwood Ave & 79th St', 'Damen Ave & Chicago Ave', 'Sheffield Ave & Wellington Ave', 'Sheffield Ave & Willow St', 'Lincoln Ave & Belle Plaine Ave', 'South Chicago Ave & 83rd St', 'Ridgeland Ave & Lake St', 'Blackstone Ave & Hyde Park Blvd', 'Halsted St & 21st St', 'Ravenswood Ave & Lawrence Ave', 'Mies van der Rohe Way & Chestnut St', 'Milwaukee Ave & Wabansia Ave', 'Lincoln Ave & Leavitt St', 'Drake Ave & Addison St', 'Morgan St & Lake St', 'Rockwell St & Eastwood Ave', 'MLK Jr Dr & 63rd St', 'Ashland Ave & 50th St', 'Marshfield Ave & 59th St', 'Michigan Ave & 14th St', 'Clark St & Montrose Ave', 'Lincoln Ave & Roscoe St', 'Burnham Harbor', 'Conservatory Dr & Lake St', 'Sheridan Rd & Montrose Ave', 'Dearborn Pkwy & Delaware Pl', 'Broadway & Cornelia Ave', 'Wabash Ave & Wacker Pl', 'Canal St & Madison St', 'Broadway & Argyle St', 'Campbell Ave & Montrose Ave', 'Lincoln Ave & Fullerton Ave', 'Halsted St & Polk St', 'Pine Grove Ave & Waveland Ave', 'Wolcott Ave & Polk St', 'Central St & Girard Ave', 'Western Ave & Monroe St', 'Stony Island Ave & 67th St', 'Clark St & Wellington Ave', 'Kingsbury St & Erie St', 'Wells St & Polk St', 'Southport Ave & Wrightwood Ave', 'Ellis Ave & 58th St', 'Halsted St & 18th St', 'Damen Ave & 51st St', 'Wabash Ave & Adams St', 'Leavitt St & Armitage Ave', 'Damen Ave & Clybourn Ave', 'Aberdeen St & Jackson Blvd', 'Clark St & 9th St (AMLI)', 'Wabash Ave & 83rd St', 'Sheffield Ave & Kingsbury St', 'Laramie Ave & Kinzie St', 'Sheffield Ave & Webster Ave', 'Halsted St & 47th Pl', 'Clinton St & Lake St', 'Jeffery Blvd & 76th St', 'Oakley Ave & Irving Park Rd', 'Sawyer Ave & Irving Park Rd', 'Warren Park East', 'Southport Ave & Waveland Ave', 'Paulina St & Montrose Ave', 'Christiana Ave & Lawrence Ave', 'Emerald Ave & 31st St', 'Wentworth Ave & 63rd St', 'Museum of Science and Industry', 'California Ave & Milwaukee Ave', 'Cannon Dr & Fullerton Ave', 'California Ave & Byron St', 'Broadway & Waveland Ave', 'Western Ave & Walton St', 'Western Blvd & 48th Pl', 'Ravenswood Ave & Balmoral Ave', 'LaSalle St & Jackson Blvd', 'Calumet Ave & 71st St', 'Racine Ave (May St) & Fulton St', 'Kenton Ave & Madison St', 'Wood St & Hubbard St', 'Rhodes Ave & 32nd St', 'Streeter Dr & Grand Ave', 'Calumet Ave & 18th St', 'Desplaines St & Randolph St', 'McClurg Ct & Illinois St', 'Halsted St & Willow St', 'Damen Ave & Grand Ave', 'Broadway & Thorndale Ave', 'South Shore Dr & 67th St', 'Rainbow Beach', 'California Ave & 21st St', '2112 W Peterson Ave', 'Broadway & Granville Ave', 'Halsted St & 63rd St', 'Dayton St & North Ave', 'Chicago Ave & Washington St', 'Canal St & Monroe St (*)', 'Albany Ave & 26th St', 'Cottage Grove Ave & 78th St', 'Millennium Park', 'Kostner Ave & Lake St', 'Halsted St & Maxwell St', 'Central Ave & Harrison St', 'Loomis St & Archer Ave', 'May St & 69th St', 'State St & Pearson St', 'Clarendon Ave & Gordon Ter', 'Clark St & Touhy Ave', 'Wilton Ave & Belmont Ave', '63rd St Beach', 'Laramie Ave & Gladys Ave', 'Larrabee St & Menomonee St', 'East Ave & Garfield St', 'Hoyne Ave & 47th St', 'LaSalle St & Adams St', 'Morgan St & 18th St', 'Eckhart Park', 'Leavitt St & Addison St', 'Clark St & Berwyn Ave', 'Lakefront Trail & Bryn Mawr Ave', 'Phillips Ave & 82nd St', 'Avers Ave & Belmont Ave', 'Valli Produce - Evanston Plaza', 'South Shore Dr & 71st St'}\n"
     ]
    }
   ],
   "source": [
    "start_stations = set(column_to_list(data_list, 3))\n",
    "\n",
    "print(len(start_stations))\n",
    "print(start_stations)"
   ]
  },
  {
   "cell_type": "markdown",
   "metadata": {},
   "source": [
    "**Tarefa 11:** *Volte e tenha certeza que você documentou suas funções. Explique os parâmetros de entrada, a saída, e o que a função faz.*"
   ]
  },
  {
   "cell_type": "code",
   "execution_count": 179,
   "metadata": {},
   "outputs": [],
   "source": [
    "# def new_function(param1: int, param2: str) -> list:\n",
    "#    \"\"\"\n",
    "#    Função de exemplo com anotações.\n",
    "#    Argumentos:\n",
    "#      param1: O primeiro parâmetro.\n",
    "#      param2: O segundo parâmetro.\n",
    "#      Retorna:\n",
    "#       Uma lista de valores x.\n",
    "#\n",
    "#    \"\"\""
   ]
  },
  {
   "cell_type": "markdown",
   "metadata": {},
   "source": [
    "**Tarefa 12:** *Crie uma função para contar tipos de usuários, sem definir os tipos para que nós possamos usar essa função com outra categoria de dados.*"
   ]
  },
  {
   "cell_type": "code",
   "execution_count": 180,
   "metadata": {},
   "outputs": [],
   "source": [
    "def count_items(column_list):\n",
    "    \"\"\"\n",
    "    Função de para contar tipos de usuários, sem definir os tipos.\n",
    "    Argumentos:\n",
    "        column_list: Lista de dados.\n",
    "    Retorna:\n",
    "        Lista com tipos dos itens e contagem.\n",
    "\n",
    "    \"\"\"\n",
    "    item_types = []\n",
    "    count_items = []\n",
    "\n",
    "    item_types = list(set(column_list))\n",
    "    # print(\"(debug) item_types:\", item_types)\n",
    "    \n",
    "    for item in item_types:\n",
    "        count_items.append(column_list.count(item))\n",
    "        \n",
    "    return item_types, count_items"
   ]
  },
  {
   "cell_type": "code",
   "execution_count": 181,
   "metadata": {},
   "outputs": [
    {
     "name": "stdout",
     "output_type": "stream",
     "text": [
      "Tipos: ['', 'Male', 'Female'] Counts: [316867, 935854, 298784]\n"
     ]
    }
   ],
   "source": [
    "column_list = column_to_list(data_list, -2)\n",
    "types, counts = count_items(column_list)\n",
    "\n",
    "print(\"Tipos:\", types, \"Counts:\", counts)"
   ]
  }
 ],
 "metadata": {
  "kernelspec": {
   "display_name": "Python 3",
   "language": "python",
   "name": "python3"
  },
  "language_info": {
   "codemirror_mode": {
    "name": "ipython",
    "version": 3
   },
   "file_extension": ".py",
   "mimetype": "text/x-python",
   "name": "python",
   "nbconvert_exporter": "python",
   "pygments_lexer": "ipython3",
   "version": "3.4.0"
  }
 },
 "nbformat": 4,
 "nbformat_minor": 2
}
