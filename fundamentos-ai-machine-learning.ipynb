{
 "cells": [
  {
   "attachments": {
    "udacity.jpg": {
     "image/jpeg": "[encoded data removed]"
    }
   },
   "cell_type": "markdown",
   "metadata": {},
   "source": [
    "![udacity.jpg](attachment:udacity.jpg)"
   ]
  },
  {
   "cell_type": "markdown",
   "metadata": {},
   "source": [
    "# Fundamentos de AI & Machine Learning"
   ]
  },
  {
   "cell_type": "markdown",
   "metadata": {},
   "source": [
    "## Introdução ao Python"
   ]
  },
  {
   "cell_type": "markdown",
   "metadata": {},
   "source": [
    "### Quiz: Operadores Aritméticos\n",
    "\n",
    "*Minhas contas de energia elétrica nos últimos três meses foram de 23, 32 e 64. Qual é a média da fatura de energia elétrica durante o período de três meses? Escreva uma expressão aritmética para calcular a média destas quantidades e use o comando print() para ver o resultado.*"
   ]
  },
  {
   "cell_type": "code",
   "execution_count": 46,
   "metadata": {},
   "outputs": [
    {
     "name": "stdout",
     "output_type": "stream",
     "text": [
      "39.666666666666664\n"
     ]
    }
   ],
   "source": [
    "# Escreva uma expressao que calcule a media de 23, 32 e 64, ou seja, some os tres numeros e divida por 3.0. \n",
    "\n",
    "print((23 + 32 + 64) / 3.0)"
   ]
  },
  {
   "cell_type": "markdown",
   "metadata": {},
   "source": [
    "*Você vai fazer alguns cálculos para um ladrilhador. Duas partes de um piso precisam de azulejos. Uma parte tem 9 azulejos de largura por 7 azulejos de comprimento, a outra tem 5 azulejos de largura por 7 azulejos de comprimento. Os azulejos vêm em pacotes de 6.*\n",
    "\n",
    "1. *Quantos azulejos são necessários?*\n",
    "2. *Você compra 17 pacotes, contendo 6 azulejos em cada. Quantos azulejos vão sobrar?*"
   ]
  },
  {
   "cell_type": "code",
   "execution_count": 47,
   "metadata": {},
   "outputs": [
    {
     "name": "stdout",
     "output_type": "stream",
     "text": [
      "98\n",
      "4\n"
     ]
    }
   ],
   "source": [
    "# Preencha aqui com uma expressao que calcule quantos azulejos sao necessarios\n",
    "print(9*7 + 5*7)\n",
    "\n",
    "# Preencha aqui com uma expressao que calcule quantos azulejos sobrarao\n",
    "print((17*6)-(9*7 + 5*7))"
   ]
  },
  {
   "cell_type": "markdown",
   "metadata": {},
   "source": [
    "### Quiz: Variáveis e operadores de atribuição\n",
    "\n",
    "*Os comentários neste quiz (as linhas que começam com #) têm instruções para criar e modificar variáveis. Depois de cada comentário, escreva uma linha de código que implemente a instrução.*\n",
    "\n",
    "*Observe que esse código usa notação científica para definir um número grande. 4.445 e 8 é igual a 4.445 * 10 ** 8 que é igual a 444500000.0.*"
   ]
  },
  {
   "cell_type": "code",
   "execution_count": 48,
   "metadata": {},
   "outputs": [
    {
     "name": "stdout",
     "output_type": "stream",
     "text": [
      "447627500.0\n"
     ]
    }
   ],
   "source": [
    "# Volume atual de um reservatório de água (em metros cúbicos)\n",
    "reservoir_volume = 4.445e8\n",
    "# Total de água da chuva de uma tempestade(em metros cúbicos)\n",
    "rainfall = 5e6\n",
    "\n",
    "# Reduza a variável de água da chuva(rainfall) em 10% para considerar perdas\n",
    "rainfall *= 0.9\n",
    "\n",
    "# Adicione a variável rainfall à variaável de vol. atual do reservatório(reservoir_volume)\n",
    "reservoir_volume += rainfall\n",
    "\n",
    "# Aumente o volume do reservatório (reservoir_volume) em 5% para considerar águas tempestuosas\n",
    "# que chegam no reservatório dias apoós a tempestade\n",
    "reservoir_volume *= 1.05\n",
    "\n",
    "# Reduza o volume do reservatório (reservoir_volume) em 5% para considerar evaporaçaão \n",
    "reservoir_volume *= 0.95\n",
    "\n",
    "# Subtraia 2.5e5 metros cúbicos de reservoir_volume para considerar água\n",
    "# que é direcionada para regiões áridas.\n",
    "reservoir_volume -= 2.5e5\n",
    "\n",
    "# Execute um print do novo valor de reservoir_volume\n",
    "print(reservoir_volume)"
   ]
  },
  {
   "cell_type": "markdown",
   "metadata": {},
   "source": [
    "*Como uma alteração de um valor em uma variável afeta outra variável que foi definida em termos dela?*"
   ]
  },
  {
   "cell_type": "code",
   "execution_count": 49,
   "metadata": {},
   "outputs": [
    {
     "ename": "NameError",
     "evalue": "name 'carrots' is not defined",
     "output_type": "error",
     "traceback": [
      "\u001b[1;31m---------------------------------------------------------------------------\u001b[0m",
      "\u001b[1;31mNameError\u001b[0m                                 Traceback (most recent call last)",
      "\u001b[1;32m<ipython-input-49-111de17f2e1a>\u001b[0m in \u001b[0;36m<module>\u001b[1;34m\u001b[0m\n\u001b[0;32m      1\u001b[0m \u001b[0mrabbits\u001b[0m \u001b[1;33m=\u001b[0m \u001b[1;36m8\u001b[0m\u001b[1;33m\u001b[0m\u001b[1;33m\u001b[0m\u001b[0m\n\u001b[1;32m----> 2\u001b[1;33m \u001b[0mcrs_per_rab\u001b[0m \u001b[1;33m=\u001b[0m \u001b[0mcarrots\u001b[0m\u001b[1;33m/\u001b[0m\u001b[0mrabbits\u001b[0m\u001b[1;33m\u001b[0m\u001b[1;33m\u001b[0m\u001b[0m\n\u001b[0m\u001b[0;32m      3\u001b[0m \u001b[1;33m\u001b[0m\u001b[0m\n\u001b[0;32m      4\u001b[0m \u001b[0mprint\u001b[0m\u001b[1;33m(\u001b[0m\u001b[1;34m\"rabbits\"\u001b[0m\u001b[1;33m,\u001b[0m \u001b[0mrabbits\u001b[0m\u001b[1;33m)\u001b[0m\u001b[1;33m\u001b[0m\u001b[1;33m\u001b[0m\u001b[0m\n\u001b[0;32m      5\u001b[0m \u001b[0mprint\u001b[0m\u001b[1;33m(\u001b[0m\u001b[1;34m\"crs_per_rab\"\u001b[0m\u001b[1;33m,\u001b[0m \u001b[0mcrs_per_rab\u001b[0m\u001b[1;33m)\u001b[0m\u001b[1;33m\u001b[0m\u001b[1;33m\u001b[0m\u001b[0m\n",
      "\u001b[1;31mNameError\u001b[0m: name 'carrots' is not defined"
     ]
    }
   ],
   "source": [
    "rabbits = 8\n",
    "crs_per_rab = carrots/rabbits\n",
    "\n",
    "print(\"rabbits\", rabbits)\n",
    "print(\"crs_per_rab\", crs_per_rab)\n",
    "\n",
    "rabbits = 12\n",
    "print(\"crs_per_rab após alteração de rabbits\", crs_per_rab)"
   ]
  },
  {
   "cell_type": "markdown",
   "metadata": {},
   "source": [
    "### Quiz: Booleanos, operadores de comparação e op. lógicos\n",
    "\n",
    "*Esse código calcula a densidade populacional do Rio de Janeiro e de São Francisco. Escreva o código para comparar essas densidades. São Francisco é mais densa do que o Rio de Janeiro? Seu código deve exibir(print) True se for e False caso não seja. Dica: precisamos de apenas uma comparação.*"
   ]
  },
  {
   "cell_type": "code",
   "execution_count": null,
   "metadata": {},
   "outputs": [],
   "source": [
    "sf_population, sf_area = 864816, 231.89\n",
    "rio_population, rio_area = 6453682, 486.5\n",
    "\n",
    "san_francisco_pop_density = sf_population/sf_area\n",
    "rio_de_janeiro_pop_density = rio_population/rio_area\n",
    "\n",
    "# Escreva um código que imprima na tela (print) True se \n",
    "#  San Francisco for mais densa que Rio e False caso contrário\n",
    "print(san_francisco_pop_density > rio_de_janeiro_pop_density)"
   ]
  },
  {
   "cell_type": "markdown",
   "metadata": {},
   "source": [
    "### Quiz: Strings\n",
    "    \n",
    "*A linha de código no quiz a seguir causará um SyntaxError, graças à utilização indevida de aspas. \n",
    "Primeiro, faça uma execução de teste para ver a mensagem de erro. \n",
    "Em seguida, resolva o problema para que a citação (de Henry Ford) seja corretamente atribuída à variável ford_quote.*"
   ]
  },
  {
   "cell_type": "code",
   "execution_count": null,
   "metadata": {},
   "outputs": [],
   "source": [
    "# TODO: Arrume essa String!\n",
    "#ford_quote = 'Whether you think you can, or you think you can't--you're right.'"
   ]
  },
  {
   "cell_type": "code",
   "execution_count": null,
   "metadata": {},
   "outputs": [],
   "source": [
    "ford_quote = 'Whether you think you can, or you think you can\\'t--you\\'re right.'"
   ]
  },
  {
   "cell_type": "markdown",
   "metadata": {},
   "source": [
    "*Qual será a saída deste código?*"
   ]
  },
  {
   "cell_type": "code",
   "execution_count": null,
   "metadata": {},
   "outputs": [],
   "source": [
    "coconut_count = \"34\"\n",
    "mango_count = \"15\"\n",
    "\n",
    "tropical_fruit_count = coconut_count + mango_count\n",
    "print(tropical_fruit_count)"
   ]
  },
  {
   "cell_type": "markdown",
   "metadata": {},
   "source": [
    "*Escreva uma mensagem de log no servidor. Forneceremos exemplos de dados de um usuário, com o tempo de sua visita e \n",
    "o site acessado. Você deve usar as variáveis fornecidas e as técnicas que aprendeu para imprimir uma mensagem de log \n",
    "como esta (com o nome de usuário, URL e marcação de tempo substituídos pelos valores das variáveis apropriadas):*\n",
    "\n",
    "*Yogesh accessed the site http://petshop.com/pets/reptiles/pythons at 16:20.*\n",
    "\n",
    "*Use o botão de execução de teste para ver os resultados enquanto você trabalha no código pedaço por pedaço.*"
   ]
  },
  {
   "cell_type": "code",
   "execution_count": null,
   "metadata": {},
   "outputs": [],
   "source": [
    "username = \"Kinari\"\n",
    "timestamp = \"04:50\"\n",
    "url = \"http://petshop.com/pets/mammals/cats\"\n",
    "\n",
    "# TODO: imprima(print) uma mensagem de log incorporando as Strings acima.\n",
    "# A mensagem deve seguir o mesmo formato que:\n",
    "# \"Yogesh accessed the site http://petshop.com/pets/reptiles/pythons at 16:20.\"\n",
    "print(username +  \" accessed the site \" + url + \" at \" + timestamp + \".\")"
   ]
  },
  {
   "cell_type": "markdown",
   "metadata": {},
   "source": [
    "*Utilize a concatenação de strings e a função len para encontrar o comprimento do nome completo de uma estrela de cinema real. Armazene esse comprimento na variável name_length. Não se esqueça de que existem espaços entre as diferentes partes de um nome!*"
   ]
  },
  {
   "cell_type": "code",
   "execution_count": null,
   "metadata": {},
   "outputs": [],
   "source": [
    "given_name = \"William\"\n",
    "middle_names = \"Bradley\"\n",
    "family_name = \"Pitt\"\n",
    "\n",
    "complete_name = given_name + \" \" + middle_names + \" \" + family_name\n",
    "\n",
    "name_length = len(given_name + middle_names + family_name) + 2\n",
    "\n",
    "# Confirme se o nome tem o número de caracteres permitido na Carteira de Motorista\n",
    "driving_license_character_limit = 28\n",
    "print(name_length <= driving_license_character_limit)"
   ]
  },
  {
   "cell_type": "markdown",
   "metadata": {},
   "source": [
    "### Quiz: Tipo e conversão de tipo\n",
    "\n",
    "*Calcule e exiba o total de vendas da semana a partir dos dados fornecidos. Exiba uma string da forma \"This week's total sales: xxx\", onde xxx será o total real de todos os números. Você precisará alterar os tipos de dados de entrada a fim de calcular o total.*"
   ]
  },
  {
   "cell_type": "code",
   "execution_count": null,
   "metadata": {},
   "outputs": [],
   "source": [
    "mon_sales = \"121\"\n",
    "tues_sales = \"105\"\n",
    "wed_sales = \"110\"\n",
    "thurs_sales = \"98\"\n",
    "fri_sales = \"95\"\n",
    "\n",
    "#TODO: Imprima(Print) uma String no formato: This week's total sales: xxx\n",
    "# É provável que você precise escrever algumas linhas de código antes do print.\n",
    "sales = int(mon_sales) + int(tues_sales) + int(wed_sales) + int(thurs_sales) + int(fri_sales)\n",
    "print(\"This week's total sales:\",sales)"
   ]
  },
  {
   "cell_type": "markdown",
   "metadata": {},
   "source": [
    "### Quiz: Listas\n",
    "*Use a indexação de lista para determinar quantos dias existem em um mês específico com base na variável month, de tipo inteiro, e armazene esse valor na variável de tipo inteiro num_days. Por exemplo, se month for 8, num_days deve ser definida como 31, já que o oitavo mês, agosto, possui 31 dias. Lembre-se de considerar que a indexação é baseada no zero!*"
   ]
  },
  {
   "cell_type": "code",
   "execution_count": null,
   "metadata": {},
   "outputs": [],
   "source": [
    "month = 8\n",
    "days_in_month = [31,28,31,30,31,30,31,31,30,31,30,31]\n",
    "\n",
    "# Use a indexação de lista para definir a variável num_days com quantos dias existem em um mês específico\n",
    "num_days = days_in_month[7]\n",
    "\n",
    "print(num_days)"
   ]
  },
  {
   "cell_type": "markdown",
   "metadata": {},
   "source": [
    "*Selecione as três datas mais recentes desta lista usando a notação de corte de lista. \n",
    "Dica: índices negativos funcionam para as fatias!*"
   ]
  },
  {
   "cell_type": "code",
   "execution_count": null,
   "metadata": {},
   "outputs": [],
   "source": [
    "eclipse_dates = ['June 21, 2001', 'December 4, 2002', 'November 23, 2003',\n",
    "                 'March 29, 2006', 'August 1, 2008', 'July 22, 2009',\n",
    "                 'July 11, 2010', 'November 13, 2012', 'March 20, 2015',\n",
    "                 'March 9, 2016']\n",
    "                 \n",
    "                 \n",
    "# TODO: Modifique essa linha para que imprima (print) os últimos 3 elementos da lista\n",
    "\n",
    "print(eclipse_dates[7:])"
   ]
  },
  {
   "cell_type": "markdown",
   "metadata": {},
   "source": [
    "*Qual seria a saída do seguinte código (trate a vírgula na resposta de múltipla escolha como uma nova linha)?*"
   ]
  },
  {
   "cell_type": "code",
   "execution_count": 50,
   "metadata": {},
   "outputs": [
    {
     "name": "stdout",
     "output_type": "stream",
     "text": [
      "4\n",
      "2\n"
     ]
    }
   ],
   "source": [
    "a = [1, 5, 8]\n",
    "b = [2, 6, 9, 10]\n",
    "c = [100, 200]\n",
    "\n",
    "print(max([len(a), len(b), len(c)]))\n",
    "print(min([len(a), len(b), len(c)]))"
   ]
  },
  {
   "cell_type": "markdown",
   "metadata": {},
   "source": [
    "*Qual seria a saída do seguinte código (trate a vírgula na resposta de múltipla escolha como uma nova linha)?*"
   ]
  },
  {
   "cell_type": "code",
   "execution_count": 51,
   "metadata": {},
   "outputs": [
    {
     "name": "stdout",
     "output_type": "stream",
     "text": [
      "Albert & Ben & Carol & Donna\n"
     ]
    }
   ],
   "source": [
    "names = [\"Carol\", \"Albert\", \"Ben\", \"Donna\"]\n",
    "print(\" & \".join(sorted(names)))"
   ]
  },
  {
   "cell_type": "markdown",
   "metadata": {},
   "source": [
    "*Qual seria a saída do seguinte código (trate a vírgula na resposta de múltipla escolha como uma nova linha)?*"
   ]
  },
  {
   "cell_type": "code",
   "execution_count": 52,
   "metadata": {},
   "outputs": [
    {
     "name": "stdout",
     "output_type": "stream",
     "text": [
      "['Albert', 'Ben', 'Carol', 'Donna', 'Eugenia']\n"
     ]
    }
   ],
   "source": [
    "names = [\"Carol\", \"Albert\", \"Ben\", \"Donna\"]\n",
    "names.append(\"Eugenia\")\n",
    "print(sorted(names))"
   ]
  },
  {
   "cell_type": "markdown",
   "metadata": {},
   "source": [
    "### Quiz: Tuplas\n",
    "\n",
    "*Qual seria a saída do seguinte código (trate a vírgula na resposta de múltipla escolha como uma nova linha)?*"
   ]
  },
  {
   "cell_type": "code",
   "execution_count": 53,
   "metadata": {},
   "outputs": [
    {
     "name": "stdout",
     "output_type": "stream",
     "text": [
      "True\n",
      "2\n"
     ]
    }
   ],
   "source": [
    "tuple_a = 1, 2\n",
    "tuple_b = (1, 2)\n",
    "\n",
    "print(tuple_a == tuple_b)\n",
    "print(tuple_a[1])"
   ]
  },
  {
   "cell_type": "markdown",
   "metadata": {},
   "source": [
    "### Quiz: Set\n",
    "\n",
    "*Qual seria a saída do seguinte código?*"
   ]
  },
  {
   "cell_type": "code",
   "execution_count": 54,
   "metadata": {},
   "outputs": [
    {
     "name": "stdout",
     "output_type": "stream",
     "text": [
      "6\n"
     ]
    }
   ],
   "source": [
    "a = [1, 2, 2, 3, 3, 3, 4, 4, 4, 4]\n",
    "b = set(a)\n",
    "print(len(a) - len(b))"
   ]
  },
  {
   "cell_type": "markdown",
   "metadata": {},
   "source": [
    "*Qual seria a saída do seguinte código?*"
   ]
  },
  {
   "cell_type": "code",
   "execution_count": 55,
   "metadata": {},
   "outputs": [
    {
     "data": {
      "text/plain": [
       "1"
      ]
     },
     "execution_count": 55,
     "metadata": {},
     "output_type": "execute_result"
    }
   ],
   "source": [
    "a = [1, 2, 2, 3, 3, 3, 4, 4, 4, 4]\n",
    "b = set(a)\n",
    "b.add(5)\n",
    "b.pop()"
   ]
  },
  {
   "cell_type": "markdown",
   "metadata": {},
   "source": [
    "### Quiz: Dicionário\n",
    "\n",
    "*Defina um dicionario chamado population, que contenha informação sobre as maiores cidades do mundo. A chave deve ser o nome da cidade (string) e seu valor a respectiva população em milhões de pessoas.*\n",
    "\n",
    "| Key      \t| Value \t|\n",
    "|----------\t|-------\t|\n",
    "| Shanghai \t| 17.8  \t|\n",
    "| Istanbul \t| 13.3  \t|\n",
    "| Karachi  \t| 13.0  \t|\n",
    "| Mumbai   \t| 12.5  \t|"
   ]
  },
  {
   "cell_type": "code",
   "execution_count": 56,
   "metadata": {},
   "outputs": [
    {
     "name": "stdout",
     "output_type": "stream",
     "text": [
      "{'Shanghai': 17.8, 'Istanbul': 13.3, 'Karachi': 13.0, 'Mumbai': 12.5}\n"
     ]
    }
   ],
   "source": [
    "population = { \"Shanghai\" : 17.8,\n",
    "             \"Istanbul\" : 13.3,\n",
    "             \"Karachi\" : 13.0,\n",
    "             \"Mumbai\" : 12.5,}\n",
    "\n",
    "print(population)"
   ]
  },
  {
   "cell_type": "markdown",
   "metadata": {},
   "source": [
    "### Quiz: Estruturas de dados compostas\n",
    "\n",
    "*Experimente trabalhar com dicionários aninhados. Adicione uma outra entrada, 'is_noble_gas', para cada dicionário no dicionário elements. Depois de inserir as novas entradas, você deve ser capaz de executar estas pesquisas:*"
   ]
  },
  {
   "cell_type": "code",
   "execution_count": 57,
   "metadata": {},
   "outputs": [],
   "source": [
    "elements = {'hydrogen': {'number': 1, 'weight': 1.00794, 'symbol': 'H', 'is_noble_gas': False},\n",
    "            'helium': {'number': 2, 'weight': 4.002602, 'symbol': 'He', 'is_noble_gas': True}}\n",
    "\n",
    "# TODO: Adicione uma entrada 'is_noble_gas' para hydrogen e helium identificando se são gases nobres\n",
    "# Dica: helium é um gás nobre, hydrogênio não"
   ]
  },
  {
   "cell_type": "code",
   "execution_count": 58,
   "metadata": {},
   "outputs": [
    {
     "name": "stdout",
     "output_type": "stream",
     "text": [
      "False\n",
      "True\n"
     ]
    }
   ],
   "source": [
    "print(elements['hydrogen']['is_noble_gas'])\n",
    "print(elements['helium']['is_noble_gas'])"
   ]
  },
  {
   "cell_type": "markdown",
   "metadata": {},
   "source": [
    "### Exercícios para praticar"
   ]
  },
  {
   "cell_type": "markdown",
   "metadata": {},
   "source": [
    "*Conte palavras únicas: encontrar o número de palavras únicas no texto. No editor de código abaixo, complete estes três passos para obter sua resposta.*\n",
    "\n",
    "1. *Separe verse em uma lista de palavras.*\n",
    "2. *Converta a lista para uma estrutura de dados capaz de armazenar apenas seus elementos únicos.*\n",
    "3. *Exiba o comprimento do container escolhido no item 2.*\n",
    "\n",
    "*Dica: Você pode usar um método de string visto nos tópicos anteriores.*"
   ]
  },
  {
   "cell_type": "code",
   "execution_count": 59,
   "metadata": {},
   "outputs": [
    {
     "name": "stdout",
     "output_type": "stream",
     "text": [
      "if you can keep your head when all about you are losing theirs and blaming it on you   if you can trust yourself when all men doubt you     but make allowance for their doubting too   if you can wait and not be tired by waiting      or being lied about  don’t deal in lies   or being hated  don’t give way to hating      and yet don’t look too good  nor talk too wise \n",
      "\n",
      "['if', 'you', 'can', 'keep', 'your', 'head', 'when', 'all', 'about', 'you', 'are', 'losing', 'theirs', 'and', 'blaming', 'it', 'on', 'you', 'if', 'you', 'can', 'trust', 'yourself', 'when', 'all', 'men', 'doubt', 'you', 'but', 'make', 'allowance', 'for', 'their', 'doubting', 'too', 'if', 'you', 'can', 'wait', 'and', 'not', 'be', 'tired', 'by', 'waiting', 'or', 'being', 'lied', 'about', 'don’t', 'deal', 'in', 'lies', 'or', 'being', 'hated', 'don’t', 'give', 'way', 'to', 'hating', 'and', 'yet', 'don’t', 'look', 'too', 'good', 'nor', 'talk', 'too', 'wise'] \n",
      "\n",
      "{'too', 'when', 'men', 'be', 'tired', 'or', 'nor', 'wait', 'if', 'trust', 'you', 'talk', 'but', 'it', 'waiting', 'lied', 'don’t', 'keep', 'losing', 'are', 'look', 'hated', 'blaming', 'in', 'for', 'and', 'yet', 'can', 'lies', 'being', 'their', 'your', 'wise', 'doubting', 'yourself', 'on', 'good', 'way', 'give', 'head', 'all', 'theirs', 'make', 'not', 'hating', 'by', 'deal', 'allowance', 'to', 'doubt', 'about'} \n",
      "\n",
      "51 \n",
      "\n"
     ]
    }
   ],
   "source": [
    "verse = \"if you can keep your head when all about you are losing theirs and blaming it on you   if you can trust yourself when all men doubt you     but make allowance for their doubting too   if you can wait and not be tired by waiting      or being lied about  don’t deal in lies   or being hated  don’t give way to hating      and yet don’t look too good  nor talk too wise\"\n",
    "print(verse, '\\n')\n",
    "\n",
    "# split verse into list of words\n",
    "verse_list = verse.split()\n",
    "print(verse_list, '\\n')\n",
    "\n",
    "# convert list to a data structure that stores unique elements\n",
    "verse_set = set(verse_list)\n",
    "print(verse_set, '\\n')\n",
    "\n",
    "# print the number of unique words\n",
    "num_unique = len(verse_set)\n",
    "print(num_unique, '\\n')"
   ]
  },
  {
   "cell_type": "markdown",
   "metadata": {},
   "source": [
    "*Dicionário de versos: no código abaixo, você encontrará um dicionário contendo as palavras únicas de verse armazenadas como chaves e o número de vezes que elas apareceram em verse armazenadas como valores. Use este dicionário para responder as perguntas a seguir. Envie estas respostas no quiz abaixo do editor de código.*\n",
    "\n",
    "*Tente responder o quiz usando código, em vez de inspecionar o dicionário manualmente!*\n",
    "\n",
    "1. *Quantas palavras únicas existem em verse_dict?*\n",
    "2. *A chave \"breathe\" está contida em verse_dict?*\n",
    "3. *Qual é o primeiro elemento da lista criada quando verse_dict é ordenado segundo suas chaves?*\n",
    "4. *Qual é o último elemento da lista criada quando verse_dict é ordenado segundo suas chaves?*\n",
    "\n",
    "*Dica: Use o método keys() para obter uma lista das chaves do dicionário, e então use o método apropriado para ordenar esta lista. Use esta lista ordenada de chaves para responder as perguntas 3 e 4.*"
   ]
  },
  {
   "cell_type": "code",
   "execution_count": 60,
   "metadata": {},
   "outputs": [
    {
     "name": "stdout",
     "output_type": "stream",
     "text": [
      "{'if': 3, 'you': 6, 'can': 3, 'keep': 1, 'your': 1, 'head': 1, 'when': 2, 'all': 2, 'about': 2, 'are': 1, 'losing': 1, 'theirs': 1, 'and': 3, 'blaming': 1, 'it': 1, 'on': 1, 'trust': 1, 'yourself': 1, 'men': 1, 'doubt': 1, 'but': 1, 'make': 1, 'allowance': 1, 'for': 1, 'their': 1, 'doubting': 1, 'too': 3, 'wait': 1, 'not': 1, 'be': 1, 'tired': 1, 'by': 1, 'waiting': 1, 'or': 2, 'being': 2, 'lied': 1, \"don't\": 3, 'deal': 1, 'in': 1, 'lies': 1, 'hated': 1, 'give': 1, 'way': 1, 'to': 1, 'hating': 1, 'yet': 1, 'look': 1, 'good': 1, 'nor': 1, 'talk': 1, 'wise': 1} \n",
      "\n",
      "51\n",
      "None\n",
      "about\n",
      "yourself\n"
     ]
    }
   ],
   "source": [
    "verse_dict =  {'if': 3, 'you': 6, 'can': 3, 'keep': 1, 'your': 1, 'head': 1, 'when': 2, 'all': 2, 'about': 2, 'are': 1, 'losing': 1, 'theirs': 1, 'and': 3, 'blaming': 1, 'it': 1, 'on': 1, 'trust': 1, 'yourself': 1, 'men': 1, 'doubt': 1, 'but': 1, 'make': 1, 'allowance': 1, 'for': 1, 'their': 1, 'doubting': 1, 'too': 3, 'wait': 1, 'not': 1, 'be': 1, 'tired': 1, 'by': 1, 'waiting': 1, 'or': 2, 'being': 2, 'lied': 1, 'don\\'t': 3, 'deal': 1, 'in': 1, 'lies': 1, 'hated': 1, 'give': 1, 'way': 1, 'to': 1, 'hating': 1, 'yet': 1, 'look': 1, 'good': 1, 'nor': 1, 'talk': 1, 'wise': 1}\n",
    "print(verse_dict, '\\n')\n",
    "\n",
    "# find number of unique keys in the dictionary\n",
    "num_keys = len(set(verse_dict))\n",
    "print(num_keys)\n",
    "\n",
    "# find whether 'breathe' is a key in the dictionary\n",
    "contains_breathe = verse_dict.get('breathe')\n",
    "print(contains_breathe)\n",
    "\n",
    "# create and sort a list of the dictionary's keys\n",
    "sorted_keys = sorted(verse_dict.keys())\n",
    "\n",
    "# get the first element in the sorted list of keys\n",
    "print(sorted_keys[0])\n",
    "\n",
    "# find the element with the highest value in the list of keys\n",
    "print(sorted_keys[-1]) "
   ]
  },
  {
   "cell_type": "markdown",
   "metadata": {},
   "source": [
    "## Controle de Fluxo"
   ]
  },
  {
   "cell_type": "markdown",
   "metadata": {},
   "source": [
    "### Quiz: Declarações condicionais\n",
    "\n",
    "*A tabela abaixo apresenta qual é o prêmio que um concorrente de uma competição ganharia com uma determinada quantidade de pontos. Escreva uma declaração if que permite que um concorrente saiba qual destes prêmios ganhou, com base no número de pontos marcado (no código, representada pela variável de tipo inteiro points).*\n",
    "\n",
    "| Pontos    \t| Prêmio          \t|\n",
    "|-----------\t|-----------------\t|\n",
    "| 1 - 50    \t| wooden rabbit   \t|\n",
    "| 51 - 150  \t| nenhum prêmio   \t|\n",
    "| 151 - 180 \t| wafer-thin mint \t|\n",
    "| 181 - 200 \t| penguin         \t|\n",
    "\n",
    "*Todos os limites inferiores e superiores aqui são inclusivos, e points pode assumir apenas valores inteiros positivos até 200. Ou seja, não é necessário se preocupar com o resultado obtido para números fora das faixas apresentadas na tabela.*\n",
    "\n",
    "*Na sua declaração if, atribua à variável result uma string contendo a mensagem apropriada com base no valor de points:*\n",
    "1. *Se eles ganharam um prêmio, deve exibir a mensagem \"Congratulations! You won a [prize name]!\", com o nome do prêmio.*\n",
    "2. *Caso o concorrente não ganhe nenhum prêmio (points na faixa 51-150), deve exibir a mensagem \"Oh dear, no prize this time.\".*\n",
    "*OBS: Ao enviar sua solução points deve ter valor 174 para que o quiz seja corrigido corretamente.*"
   ]
  },
  {
   "cell_type": "code",
   "execution_count": 61,
   "metadata": {},
   "outputs": [
    {
     "name": "stdout",
     "output_type": "stream",
     "text": [
      "Congratulations! You won a wafer-thin mint!\n"
     ]
    }
   ],
   "source": [
    "points = 174  # use this input to make your submission\n",
    "\n",
    "result = \"\"\n",
    "\n",
    "# write your if statement here\n",
    "if points <= 50:\n",
    "    result = \"Congratulations! You won a wooden rabbit!\"\n",
    "elif points <= 150:\n",
    "    result = \"Oh dear, no prize this time.\"\n",
    "elif points <= 180:\n",
    "    result = \"Congratulations! You won a wafer-thin mint!\"\n",
    "else:\n",
    "    result = \"Congratulations! You won a penguin!\"\n",
    "    \n",
    "print(result)"
   ]
  },
  {
   "cell_type": "markdown",
   "metadata": {},
   "source": [
    "### Quiz: Expressões booleanas para condições\n",
    "\n",
    "*Reescreva seu código do quiz anterior. Qual é o prêmio, usando o que aprendeu sobre valores verdade. Comece definindo a variável prize para None e, em seguida, use uma declaração if para reatribuir o nome apropriado do prêmio ao 'Prêmio', caso eles tenham ganhado um prêmio. Depois disso, use outra declaração if para atribuir result à string correta baseada no valor verdade de prize. Assim, não teremos múltiplas atribuições de resultado.*"
   ]
  },
  {
   "cell_type": "code",
   "execution_count": 62,
   "metadata": {},
   "outputs": [
    {
     "name": "stdout",
     "output_type": "stream",
     "text": [
      "Congratulations! You won a wafer-thin mint!\n"
     ]
    }
   ],
   "source": [
    "result = \"\"\n",
    "points = 174\n",
    "prize = None\n",
    "\n",
    "# write your if statement here\n",
    "if points >= 1 and points <=50:\n",
    "    prize = \"wooden rabbit\"\n",
    "elif points >= 151 and points <= 180:    \n",
    "    prize = \"wafer-thin mint\"\n",
    "elif points >= 181 and points <= 200:    \n",
    "    prize = \"penguin\"   \n",
    "    \n",
    "if points >= 51 and points <= 150:\n",
    "    result = \"Oh dear, no prize this time.\"\n",
    "else:\n",
    "    result = \"Congratulations! You won a {}!\".format(prize)\n",
    "    \n",
    "print(result)"
   ]
  },
  {
   "cell_type": "markdown",
   "metadata": {},
   "source": [
    "### Quiz: Loops for\n",
    "\n",
    "*Escreva um loop for que itere sobre a lista names para criar uma lista usernames. Para criar um nome de usuário para cada nome, faça tudo em letras minúsculas e substitua os espaços por sublinhados. Executando seu loop for sobre a lista:*\n",
    "\n",
    "*names = [\"Joey Tribbiani\", \"Monica Geller\", \"Chandler Bing\", \"Phoebe Buffay\"]*\n",
    "\n",
    "*deve criar a lista:*\n",
    "\n",
    "*usernames = [\"joey_tribbiani\", \"monica_geller\", \"chandler_bing\", \"phoebe_buffay\"]*"
   ]
  },
  {
   "cell_type": "code",
   "execution_count": 63,
   "metadata": {},
   "outputs": [
    {
     "name": "stdout",
     "output_type": "stream",
     "text": [
      "['joey_tribbiani', 'monica_geller', 'chandler_bing', 'phoebe_buffay']\n"
     ]
    }
   ],
   "source": [
    "names = [\"Joey Tribbiani\", \"Monica Geller\", \"Chandler Bing\", \"Phoebe Buffay\"]\n",
    "usernames = []\n",
    "\n",
    "# write your for loop here\n",
    "for i in names:\n",
    "    usernames.append(i.lower().replace(\" \", \"_\"))\n",
    "\n",
    "print(usernames)"
   ]
  },
  {
   "cell_type": "markdown",
   "metadata": {},
   "source": [
    "*Escreva um loop que usa range() para iterar sobre as posições em usernames e modificar a lista. Como você fez no quiz anterior, altere cada nome para que tenha letras minúsculas e substitua os espaços por sublinhados. Depois de executar seu loop, esta lista*\n",
    "\n",
    "*usernames = [\"Joey Tribbiani\", \"Monica Geller\", \"Chandler Bing\", \"Phoebe Buffay\"]*\n",
    "\n",
    "*deve mudar para isto:*\n",
    "\n",
    "*usernames = [\"joey_tribbiani\", \"monica_geller\", \"chandler_bing\", \"phoebe_buffay\"]*"
   ]
  },
  {
   "cell_type": "code",
   "execution_count": 64,
   "metadata": {},
   "outputs": [
    {
     "name": "stdout",
     "output_type": "stream",
     "text": [
      "['joey_tribbiani', 'monica_geller', 'chandler_bing', 'phoebe_buffay']\n"
     ]
    }
   ],
   "source": [
    "usernames = [\"Joey Tribbiani\", \"Monica Geller\", \"Chandler Bing\", \"Phoebe Buffay\"]\n",
    "\n",
    "# write your for loop here\n",
    "for i in range(len(usernames)):\n",
    "    usernames[i] = usernames[i].lower().replace(\" \", \"_\")\n",
    "\n",
    "print(usernames)"
   ]
  },
  {
   "cell_type": "markdown",
   "metadata": {},
   "source": [
    "*Escrever um loop for que itere sobre uma lista de strings e tokens e conte quantos deles existem tags XML. XML é uma linguagem de dados semelhante ao HTML. Você pode dizer que uma string é uma tag XML se ela começar com um colchete angular esquerdo \"<\" e acabar com um colchete angular direito \">\". Monitore o número de tags utilizando a variável count.*\n",
    "\n",
    "*Você pode assumir que a lista de strings não vai conter strings vazias.*"
   ]
  },
  {
   "cell_type": "code",
   "execution_count": 65,
   "metadata": {},
   "outputs": [
    {
     "name": "stdout",
     "output_type": "stream",
     "text": [
      "2\n"
     ]
    }
   ],
   "source": [
    "tokens = ['<greeting>', 'Hello World!', '</greeting>']\n",
    "\n",
    "count = 0\n",
    "for token in tokens:\n",
    "    if token[0] == '<' and token[-1] == '>':\n",
    "        count += 1\n",
    "\n",
    "print(count)"
   ]
  },
  {
   "cell_type": "markdown",
   "metadata": {},
   "source": [
    "*Escreva um loop for que itere sobre uma lista de strings e crie uma única string, html_str, que é uma lista HTML.*"
   ]
  },
  {
   "cell_type": "code",
   "execution_count": 66,
   "metadata": {},
   "outputs": [
    {
     "name": "stdout",
     "output_type": "stream",
     "text": [
      "<ul>\n",
      "<li>first string</li>\n",
      "<li>second string</li>\n",
      "</ul>\n"
     ]
    }
   ],
   "source": [
    "items = ['first string', 'second string']\n",
    "\n",
    "html_str = \"<ul>\\n\"\n",
    "for item in items:\n",
    "    html_str += \"<li>{}</li>\\n\".format(item)\n",
    "html_str += \"</ul>\"\n",
    "\n",
    "print(html_str)"
   ]
  },
  {
   "cell_type": "markdown",
   "metadata": {},
   "source": [
    "### Quiz: Loops while\n",
    "\n",
    "*Escreva um loop while que encontra o maior número quadrado que seja menor que um inteiro limit e armazena-o na variável nearest_square. Um número quadrado é o produto de um número inteiro multiplicado por si mesmo, por exemplo, 36 é um número quadrado, porque é igual a 6*6.*\n",
    "\n",
    "*Por exemplo, se limit for 40, seu código deve definir o nearest_square para 36.*"
   ]
  },
  {
   "cell_type": "code",
   "execution_count": 67,
   "metadata": {},
   "outputs": [
    {
     "name": "stdout",
     "output_type": "stream",
     "text": [
      "36\n"
     ]
    }
   ],
   "source": [
    "limit = 40\n",
    "\n",
    "num = 0\n",
    "while (num+1)**2 < limit:\n",
    "    num += 1\n",
    "nearest_square = num**2\n",
    "\n",
    "print(nearest_square)"
   ]
  },
  {
   "cell_type": "markdown",
   "metadata": {},
   "source": [
    "### Quiz: Pausa e continuação\n",
    "\n",
    "*Escreva um loop com uma declaração break para criar uma string, news_ticker, que tenha exatamente 140 caracteres de tamanho. Você deve criar o ticker de notícias adicionando manchetes da lista headlines, inserindo um espaço entre cada uma. Se necessário, você pode truncar a última manchete no meio, para que news_ticker tenha exatamente 140 caracteres de tamanho.*\n",
    "\n",
    "*Lembre-se de que a break funciona tanto para loops while como para for. Use o loop que parecer mais apropriado. Considere adicionar declarações print a seu código para ajudá-lo a resolver bugs.*"
   ]
  },
  {
   "cell_type": "code",
   "execution_count": 68,
   "metadata": {},
   "outputs": [
    {
     "name": "stdout",
     "output_type": "stream",
     "text": [
      "Local Bear Eaten by Man Legislature Announces New Laws Peasant Discovers Violence Inherent in System Cat Rescues Fireman Stuck in Tree Brave\n"
     ]
    }
   ],
   "source": [
    "headlines = [\"Local Bear Eaten by Man\",\n",
    "             \"Legislature Announces New Laws\",\n",
    "             \"Peasant Discovers Violence Inherent in System\",\n",
    "             \"Cat Rescues Fireman Stuck in Tree\",\n",
    "             \"Brave Knight Runs Away\",\n",
    "             \"Papperbok Review: Totally Triffic\"]\n",
    "\n",
    "news_ticker = \"\"\n",
    "for headline in headlines:\n",
    "    news_ticker += headline + \" \"\n",
    "    if len(news_ticker) >= 140:\n",
    "        news_ticker = news_ticker[:140]\n",
    "        break\n",
    "\n",
    "print(news_ticker)"
   ]
  },
  {
   "cell_type": "markdown",
   "metadata": {},
   "source": [
    "### Quiz: Zip e enumeração\n",
    "\n",
    "*Use zip para gravar um loop for que cria uma string especificando o rótulo e as coordenadas de cada ponto e acrescenta à lista points. Cada string deve ser formatada como label: x, y, z. Por exemplo, a string para a primeira coordenada deve ser F: 23, 677, 4.*"
   ]
  },
  {
   "cell_type": "code",
   "execution_count": 69,
   "metadata": {},
   "outputs": [
    {
     "name": "stdout",
     "output_type": "stream",
     "text": [
      "F: 23, 677, 4\n",
      "J: 53, 233, 16\n",
      "A: 2, 405, -6\n",
      "Q: -12, 433, -42\n",
      "Y: 95, 905, 3\n",
      "B: 103, 376, -6\n",
      "W: 14, 432, 23\n",
      "X: -5, 445, -1\n"
     ]
    }
   ],
   "source": [
    "x_coord = [23, 53, 2, -12, 95, 103, 14, -5]\n",
    "y_coord = [677, 233, 405, 433, 905, 376, 432, 445]\n",
    "z_coord = [4, 16, -6, -42, 3, -6, 23, -1]\n",
    "labels = [\"F\", \"J\", \"A\", \"Q\", \"Y\", \"B\", \"W\", \"X\"]\n",
    "\n",
    "points = []\n",
    "for point in zip(labels, x_coord, y_coord, z_coord):\n",
    "    points.append(\"{}: {}, {}, {}\".format(*point))\n",
    "\n",
    "for point in points:\n",
    "    print(point)"
   ]
  },
  {
   "cell_type": "markdown",
   "metadata": {},
   "source": [
    "*Use zip para criar um dicionário cast que usa names como chave e heights como valores.*"
   ]
  },
  {
   "cell_type": "code",
   "execution_count": 70,
   "metadata": {},
   "outputs": [
    {
     "name": "stdout",
     "output_type": "stream",
     "text": [
      "{'Barney': 72, 'Robin': 68, 'Ted': 72, 'Lily': 66, 'Marshall': 76}\n"
     ]
    }
   ],
   "source": [
    "cast_names = [\"Barney\", \"Robin\", \"Ted\", \"Lily\", \"Marshall\"]\n",
    "cast_heights = [72, 68, 72, 66, 76]\n",
    "\n",
    "cast = dict(zip(cast_names, cast_heights))\n",
    "print(cast)"
   ]
  },
  {
   "cell_type": "markdown",
   "metadata": {},
   "source": [
    "*Descompacte a tupla cast em duas tuplas, names e heights.*"
   ]
  },
  {
   "cell_type": "code",
   "execution_count": 71,
   "metadata": {},
   "outputs": [
    {
     "name": "stdout",
     "output_type": "stream",
     "text": [
      "('Barney', 'Robin', 'Ted', 'Lily', 'Marshall')\n",
      "(72, 68, 72, 66, 76)\n"
     ]
    }
   ],
   "source": [
    "cast = ((\"Barney\", 72), (\"Robin\", 68), (\"Ted\", 72), (\"Lily\", 66), (\"Marshall\", 76))\n",
    "\n",
    "names, heights = zip(*cast)\n",
    "print(names)\n",
    "print(heights)"
   ]
  },
  {
   "cell_type": "markdown",
   "metadata": {},
   "source": [
    "*Use zip para transpor data de uma matriz 4 por 3 para uma matriz 3 por 4. Na verdade, existe um truque legal para isso! Fique à vontade para olhar para as soluções, caso não consiga descobrir.*"
   ]
  },
  {
   "cell_type": "code",
   "execution_count": 72,
   "metadata": {},
   "outputs": [
    {
     "name": "stdout",
     "output_type": "stream",
     "text": [
      "((0, 3, 6, 9), (1, 4, 7, 10), (2, 5, 8, 11))\n"
     ]
    }
   ],
   "source": [
    "data = ((0, 1, 2), (3, 4, 5), (6, 7, 8), (9, 10, 11))\n",
    "\n",
    "data_transpose = tuple(zip(*data))\n",
    "print(data_transpose)"
   ]
  },
  {
   "cell_type": "markdown",
   "metadata": {},
   "source": [
    "*Use enumerate para modificar a lista cast para que cada elemento contenha o nome seguido da altura correspondente do personagem. Por exemplo, o primeiro elemento de cast deve mudar de \"Barney Stinson\" para \"Barney Stinson 72\".*"
   ]
  },
  {
   "cell_type": "code",
   "execution_count": 73,
   "metadata": {},
   "outputs": [
    {
     "name": "stdout",
     "output_type": "stream",
     "text": [
      "['Barney Stinson 72', 'Robin Scherbatsky 68', 'Ted Mosby 72', 'Lily Aldrin 66', 'Marshall Eriksen 76']\n"
     ]
    }
   ],
   "source": [
    "cast = [\"Barney Stinson\", \"Robin Scherbatsky\", \"Ted Mosby\", \"Lily Aldrin\", \"Marshall Eriksen\"]\n",
    "heights = [72, 68, 72, 66, 76]\n",
    "\n",
    "for i, character in enumerate(cast):\n",
    "    cast[i] = character + \" \" + str(heights[i])\n",
    "\n",
    "print(cast)"
   ]
  },
  {
   "cell_type": "markdown",
   "metadata": {},
   "source": [
    "### Quiz: Compreensão de listas\n",
    "\n",
    "*Use uma compreensão de listas para criar uma nova lista first_names, que contém apenas os primeiros nomes em names em letras minúsculas.*"
   ]
  },
  {
   "cell_type": "code",
   "execution_count": 76,
   "metadata": {},
   "outputs": [
    {
     "name": "stdout",
     "output_type": "stream",
     "text": [
      "['rick', 'morty', 'summer', 'jerry', 'beth']\n"
     ]
    }
   ],
   "source": [
    "names = [\"Rick Sanchez\", \"Morty Smith\", \"Summer Smith\", \"Jerry Smith\", \"Beth Smith\"]\n",
    "\n",
    "first_names = [name.split()[0].lower() for name in names]\n",
    "print(first_names)"
   ]
  },
  {
   "cell_type": "markdown",
   "metadata": {},
   "source": [
    "*Use uma compreensão de listas para criar uma lista multiples_3, contendo os 20 primeiros múltiplos de 3.*"
   ]
  },
  {
   "cell_type": "code",
   "execution_count": 77,
   "metadata": {},
   "outputs": [
    {
     "name": "stdout",
     "output_type": "stream",
     "text": [
      "[3, 6, 9, 12, 15, 18, 21, 24, 27, 30, 33, 36, 39, 42, 45, 48, 51, 54, 57, 60]\n"
     ]
    }
   ],
   "source": [
    "multiples_3 = [x * 3 for x in range(1, 21)]\n",
    "print(multiples_3)"
   ]
  },
  {
   "cell_type": "markdown",
   "metadata": {},
   "source": [
    "*Use uma compreensão de lista para criar uma lista de nomes passed, que só incluem aqueles que marcaram pelo menos 65 pontos.*"
   ]
  },
  {
   "cell_type": "code",
   "execution_count": 78,
   "metadata": {},
   "outputs": [
    {
     "name": "stdout",
     "output_type": "stream",
     "text": [
      "['Rick Sanchez', 'Summer Smith', 'Beth Smith']\n"
     ]
    }
   ],
   "source": [
    "scores = {\n",
    "             \"Rick Sanchez\": 70,\n",
    "             \"Morty Smith\": 35,\n",
    "             \"Summer Smith\": 82,\n",
    "             \"Jerry Smith\": 23,\n",
    "             \"Beth Smith\": 98\n",
    "          }\n",
    "\n",
    "passed = [name for name, score in scores.items() if score >= 65]\n",
    "print(passed)"
   ]
  }
 ],
 "metadata": {
  "kernelspec": {
   "display_name": "Python 3",
   "language": "python",
   "name": "python3"
  },
  "language_info": {
   "codemirror_mode": {
    "name": "ipython",
    "version": 3
   },
   "file_extension": ".py",
   "mimetype": "text/x-python",
   "name": "python",
   "nbconvert_exporter": "python",
   "pygments_lexer": "ipython3",
   "version": "3.6.7"
  }
 },
 "nbformat": 4,
 "nbformat_minor": 2
}
